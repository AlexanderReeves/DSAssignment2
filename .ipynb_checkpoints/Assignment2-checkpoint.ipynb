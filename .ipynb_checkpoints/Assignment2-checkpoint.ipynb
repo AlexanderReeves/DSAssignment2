{
 "cells": [
  {
   "cell_type": "code",
   "execution_count": 1,
   "id": "f7ff6f9b",
   "metadata": {},
   "outputs": [],
   "source": [
    "import numpy as np\n",
    "import matplotlib.pyplot as plt\n",
    "from sklearn.linear_model import SGDClassifier\n",
    "from sklearn.datasets import load_breast_cancer\n",
    "from sklearn.model_selection import cross_val_predict\n",
    "from sklearn.metrics import confusion_matrix, ConfusionMatrixDisplay\n",
    "from sklearn.model_selection import train_test_split\n",
    "from sklearn.metrics import recall_score\n",
    "from sklearn.metrics import precision_score\n",
    "from sklearn.metrics import f1_score\n",
    "from sklearn.metrics import roc_curve, auc\n",
    "from sklearn.metrics import plot_confusion_matrix"
   ]
  },
  {
   "cell_type": "code",
   "execution_count": 2,
   "id": "f961f3df",
   "metadata": {},
   "outputs": [],
   "source": [
    "import pandas as pd #Pandas to load and handle the dataset\n",
    "ds = pd.read_csv(\"./data/Plants_Dataset.csv\")\n",
    "ds = ds.to_numpy()"
   ]
  },
  {
   "cell_type": "code",
   "execution_count": 3,
   "id": "88f44328",
   "metadata": {},
   "outputs": [
    {
     "name": "stdout",
     "output_type": "stream",
     "text": [
      "[[3 654 38.4 ... 49.43 5.5 0.93]\n",
      " [3 413 22.2 ... 50.24 5.63 0.94]\n",
      " [3 610 31.2 ... 50.77 5.58 1.08]\n",
      " ...\n",
      " [1 648 22.7 ... 47.76 5.81 1.3]\n",
      " [1 595 31.5 ... 49.01 5.97 1.39]\n",
      " [1 528 23.4 ... 48.29 5.94 1.16]]\n"
     ]
    }
   ],
   "source": [
    "b, ds[:,0] = np.unique(ds[:,0], return_inverse=True)\n",
    "print(ds)"
   ]
  },
  {
   "cell_type": "code",
   "execution_count": 4,
   "id": "ddfe6162",
   "metadata": {},
   "outputs": [
    {
     "name": "stdout",
     "output_type": "stream",
     "text": [
      "[[654 38.4 16.6 ... 49.43 5.5 0.93]\n",
      " [413 22.2 17.2 ... 50.24 5.63 0.94]\n",
      " [610 31.2 19.9 ... 50.77 5.58 1.08]\n",
      " ...\n",
      " [648 22.7 21.4 ... 47.76 5.81 1.3]\n",
      " [595 31.5 22.5 ... 49.01 5.97 1.39]\n",
      " [528 23.4 17.4 ... 48.29 5.94 1.16]]\n"
     ]
    }
   ],
   "source": [
    "X= ds[:,1:]\n",
    "print(X)"
   ]
  },
  {
   "cell_type": "code",
   "execution_count": 5,
   "id": "85a4ce2b",
   "metadata": {},
   "outputs": [
    {
     "name": "stdout",
     "output_type": "stream",
     "text": [
      "[3 3 3 3 3 3 3 3 3 3 3 3 3 3 3 3 3 3 3 3 3 3 3 3 3 0 0 0 0 0 0 0 0 0 0 0 0\n",
      " 0 0 0 0 0 0 0 0 0 0 0 0 0 2 2 2 2 2 2 2 2 2 2 2 2 2 2 2 2 2 2 2 1 1 1 1 1\n",
      " 1 1 1 1 1 1]\n"
     ]
    }
   ],
   "source": [
    "y= ds[:,0]\n",
    "print(y)\n"
   ]
  },
  {
   "cell_type": "code",
   "execution_count": 6,
   "id": "2684abd4",
   "metadata": {},
   "outputs": [],
   "source": [
    "# Split the data into a training set and a test set\n",
    "#X_train, X_test, y_train, y_test = ???\n",
    "\n",
    "#Solution - I have explicitly strafified this set as well:\n",
    "X_train, X_test, y_train, y_test = train_test_split(X, y, stratify = y,random_state=2)\n"
   ]
  },
  {
   "cell_type": "code",
   "execution_count": 7,
   "id": "cd7b548c",
   "metadata": {},
   "outputs": [],
   "source": [
    "#Convert values to floats before standardizing, this is new code\n",
    "X_train = X_train.astype(float)\n",
    "X_test = X_test.astype(float)\n",
    "y_train = y_train.astype(float)\n",
    "y_test = y_test.astype(float)\n",
    "\n",
    "# Standardize\n",
    "mean = X_train.mean(axis=0)\n",
    "std = X_train.std(axis=0)\n",
    "X_train = (X_train - mean) / std"
   ]
  },
  {
   "cell_type": "code",
   "execution_count": 8,
   "id": "b6bdeece",
   "metadata": {},
   "outputs": [
    {
     "name": "stdout",
     "output_type": "stream",
     "text": [
      "[6.07800000e+02 2.97366667e+01 1.99450000e+01 6.51333333e+00\n",
      " 8.53000000e+01 4.41383333e+01 1.99208333e+01 8.46040000e+01\n",
      " 2.82883333e+00 1.42083333e-01 5.57350833e+02 1.11178117e+03\n",
      " 1.10340162e+04 1.67233933e+03 4.88453333e+01 5.79050000e+00\n",
      " 1.05833333e+00]\n"
     ]
    }
   ],
   "source": [
    "print(mean)"
   ]
  },
  {
   "cell_type": "code",
   "execution_count": 9,
   "id": "3e383672",
   "metadata": {},
   "outputs": [
    {
     "name": "stdout",
     "output_type": "stream",
     "text": [
      "CV Train recall: 1 : 15  -  [0.26315789 0.25       0.5        0.78947368]\n",
      "CV Train precision: 1 : 15  -  [0.625      0.16666667 0.5        0.57692308]\n",
      "CV Train f1scores: 1 : 15  -  [0.37037037 0.2        0.5        0.66666667]\n"
     ]
    }
   ],
   "source": [
    "#We need to store the best performance and the features that achieved them.\n",
    "best_mean_f1 = 0\n",
    "best_f1 = 0\n",
    "best_f2 = 0\n",
    "best_clf = \"\"\n",
    "\n",
    "# We will be testing every combination of pairs of features \n",
    "\n",
    "for f1 in range(0,16):\n",
    "    for f2 in range(0,16):\n",
    "        \n",
    "        # We want 2 features, not 1\n",
    "        if f1 == f2:\n",
    "            continue\n",
    "        \n",
    "        features_idx_to_use = [f1,f2]\n",
    "        \n",
    "        clf = SGDClassifier(alpha=0.001, max_iter=100, random_state=2)\n",
    "        clf.fit(X_train[:,features_idx_to_use], y_train)\n",
    "        \n",
    "        # Return the predictions for the 3-Fold crossvalidation\n",
    "        y_predicted = cross_val_predict(clf, X_train[:,features_idx_to_use],y_train, cv=3)\n",
    "        \n",
    "        # Construct the confusion matricies\n",
    "        conf_mat_train = confusion_matrix(y_train, y_predicted)\n",
    "        \n",
    "        # Print out the recall, precision and F1 scores\n",
    "        # There will be a value for each class\n",
    "        # CV Train\n",
    "        #print(\"CV Train:\",f1,\":\",f2,\" - \", recall_score(y_train,y_predicted,average=None))\n",
    "        #print(\"CV Train:\",f1,\":\",f2,\" - \",precision_score(y_train,y_predicted,average=None))\n",
    "        #print(\"CV Train f1scores:\",f1,\":\",f2,\" - \",f1_score(y_train,y_predicted,average=None))\n",
    "\n",
    "        current_f1 = np.mean(f1_score(y_train,y_predicted,average=None))\n",
    "        if current_f1 > best_mean_f1:\n",
    "            best_f1 = f1\n",
    "            best_f2 = f2\n",
    "            best_mean_f1 = current_f1\n",
    "            best_clf = clf\n",
    "            \n",
    "\n",
    "#RE do the calculations with our selected best options as final\n",
    "features_idx_to_use = [f1,f2]\n",
    "\n",
    "clf = SGDClassifier(alpha=0.001, max_iter=100, random_state=1)\n",
    "clf.fit(X_train[:,features_idx_to_use], y_train)\n",
    "\n",
    "# Return the predictions for the 3-Fold crossvalidation\n",
    "y_predicted = cross_val_predict(clf, X_train[:,features_idx_to_use],y_train, cv=3)\n",
    "\n",
    "# Construct the confusion matricies\n",
    "conf_mat_train = confusion_matrix(y_train, y_predicted)\n",
    "\n",
    "# Print out the recall, precision and F1 scores\n",
    "# There will be a value for each class\n",
    "# CV Train\n",
    "print(\"CV Train recall:\",best_f1,\":\",best_f2,\" - \", recall_score(y_train,y_predicted,average=None))\n",
    "print(\"CV Train precision:\",best_f1,\":\",best_f2,\" - \",precision_score(y_train,y_predicted,average=None))\n",
    "print(\"CV Train f1scores:\",best_f1,\":\",best_f2,\" - \",f1_score(y_train,y_predicted,average=None))\n",
    "\n",
    "        \n"
   ]
  },
  {
   "cell_type": "code",
   "execution_count": 10,
   "id": "f785b9e8",
   "metadata": {},
   "outputs": [
    {
     "data": {
      "text/plain": [
       "<matplotlib.collections.PathCollection at 0x2fcc6bddf70>"
      ]
     },
     "execution_count": 10,
     "metadata": {},
     "output_type": "execute_result"
    },
    {
     "data": {
      "image/png": "[encoded data removed]",
      "text/plain": [
       "<Figure size 720x720 with 1 Axes>"
      ]
     },
     "metadata": {
      "needs_background": "light"
     },
     "output_type": "display_data"
    }
   ],
   "source": [
    "fig, ax = plt.subplots(figsize=(10,10))\n",
    "ax.scatter(X_train[:,best_f1], X_train[:,best_f2], c=y_train, cmap='rainbow', alpha=0.3, s=30)   "
   ]
  },
  {
   "cell_type": "code",
   "execution_count": 11,
   "id": "4de84ea1",
   "metadata": {},
   "outputs": [
    {
     "name": "stdout",
     "output_type": "stream",
     "text": [
      "Test: [0.         1.         0.8        0.83333333]\n",
      "Test: [0.         0.75       0.4        0.83333333]\n",
      "Test: [0.         0.85714286 0.53333333 0.83333333]\n",
      "['A', 'B', 'C', 'D']\n"
     ]
    },
    {
     "name": "stderr",
     "output_type": "stream",
     "text": [
      "C:\\Users\\ioemaster\\anaconda3\\lib\\site-packages\\sklearn\\metrics\\_classification.py:1318: UndefinedMetricWarning: Precision is ill-defined and being set to 0.0 in labels with no predicted samples. Use `zero_division` parameter to control this behavior.\n",
      "  _warn_prf(average, modifier, msg_start, len(result))\n"
     ]
    },
    {
     "data": {
      "image/png": "[encoded data removed]",
      "text/plain": [
       "<Figure size 432x288 with 2 Axes>"
      ]
     },
     "metadata": {
      "needs_background": "light"
     },
     "output_type": "display_data"
    }
   ],
   "source": [
    "#We dont have a \"bunch target_name\"\n",
    "#So make an equivalent...\n",
    "target_names = ['A', 'B', 'C', 'D']\n",
    "\n",
    "# Now we need to test our classifier using the test set.\n",
    "# Recall that we standardised the data - we need to do the same with the stored\n",
    "# Mean and standard deviation from the training set.\n",
    "\n",
    "X_test = (X_test - mean) / std\n",
    "\n",
    "y_test_predicted = best_clf.predict(X_test[:,[best_f1, best_f2]])\n",
    "conf_mat_test = confusion_matrix(y_test, y_test_predicted)\n",
    "\n",
    "fig, ax = plt.subplots()\n",
    "disp = ConfusionMatrixDisplay.from_estimator(best_clf, X_test[:,[best_f1, best_f2]], y_test,\n",
    "                                 display_labels=target_names,\n",
    "                                 cmap=plt.cm.Blues,ax=ax)\n",
    "ax.set_title('Testing')\n",
    "\n",
    "# Test\n",
    "print(\"Test:\",recall_score(y_test,y_test_predicted,average=None))\n",
    "print(\"Test:\",precision_score(y_test,y_test_predicted,average=None))\n",
    "print(\"Test:\",f1_score(y_test,y_test_predicted,average=None)) \n",
    "\n",
    "print(target_names)\n",
    "        "
   ]
  },
  {
   "cell_type": "code",
   "execution_count": 12,
   "id": "5a261546",
   "metadata": {},
   "outputs": [
    {
     "name": "stdout",
     "output_type": "stream",
     "text": [
      "[2. 3. 0. 1. 1. 1. 2. 3. 3. 2. 0. 0. 3. 0. 0. 2. 2. 3. 0. 3.]\n"
     ]
    }
   ],
   "source": [
    "print(y_test)"
   ]
  },
  {
   "cell_type": "code",
   "execution_count": 13,
   "id": "b61fee74",
   "metadata": {},
   "outputs": [],
   "source": [
    "#y_score = best_clf.decision_function(X_test[:,[best_f1, best_f2]])\n",
    "\n",
    "# We need to format the y_test into a n_samples x 2 binary array\n",
    "# that indicates class membership\n",
    "##from sklearn import preprocessing\n",
    "#y_test_bin = preprocessing.label_binarize(y, classes=[0, 1])\n",
    "#fpr = dict()\n",
    "#tpr = dict()\n",
    "#roc_auc = dict()\n",
    "#fpr, tpr, _ = roc_curve(y_test, y_score)\n",
    "#roc_auc = auc(fpr, tpr)\n",
    "\n",
    "#print(\"AUC:\", roc_auc)"
   ]
  },
  {
   "cell_type": "code",
   "execution_count": 14,
   "id": "aa2fbedf",
   "metadata": {},
   "outputs": [],
   "source": [
    "h = .02  # step size in the mesh\n",
    "# create a mesh to plot in\n",
    "x_min, x_max = X_test[:, best_f1].min() - 1, X_test[:, best_f1].max() + 1\n",
    "y_min, y_max = X_test[:, best_f2].min() - 1, X_test[:, best_f2].max() + 1\n",
    "xx, yy = np.meshgrid(np.arange(x_min, x_max, h),\n",
    "                     np.arange(y_min, y_max, h))\n"
   ]
  },
  {
   "cell_type": "code",
   "execution_count": 15,
   "id": "66aa0a20",
   "metadata": {},
   "outputs": [
    {
     "data": {
      "image/png": "[encoded data removed]",
      "text/plain": [
       "<Figure size 720x720 with 1 Axes>"
      ]
     },
     "metadata": {
      "needs_background": "light"
     },
     "output_type": "display_data"
    }
   ],
   "source": [
    "fig, ax = plt.subplots(figsize=(10,10))\n",
    "# Plot the decision boundary. For that, we will assign a color to each\n",
    "# point in the mesh [x_min, x_max]x[y_min, y_max].\n",
    "Z = best_clf.predict(np.c_[xx.ravel(), yy.ravel()])\n",
    "# Put the result into a color plot\n",
    "Z = Z.reshape(xx.shape)\n",
    "cs = ax.contourf(xx, yy, Z,cmap=plt.get_cmap('plasma'))"
   ]
  },
  {
   "cell_type": "code",
   "execution_count": 22,
   "id": "722dde76",
   "metadata": {},
   "outputs": [
    {
     "name": "stdout",
     "output_type": "stream",
     "text": [
      "<zip object at 0x000002FCC6BC4D40>\n"
     ]
    }
   ],
   "source": [
    "print(zip(best_clf.classes_, colors))"
   ]
  },
  {
   "cell_type": "code",
   "execution_count": 27,
   "id": "79a49063",
   "metadata": {},
   "outputs": [
    {
     "data": {
      "image/png": "[encoded data removed]",
      "text/plain": [
       "<Figure size 720x720 with 1 Axes>"
      ]
     },
     "metadata": {
      "needs_background": "light"
     },
     "output_type": "display_data"
    }
   ],
   "source": [
    "fig, ax = plt.subplots(figsize=(10,10))\n",
    "# Plot the decision boundary. For that, we will assign a color to each\n",
    "# point in the mesh [x_min, x_max]x[y_min, y_max].\n",
    "Z = best_clf.predict(np.c_[xx.ravel(), yy.ravel()])\n",
    "# Put the result into a color plot\n",
    "Z = Z.reshape(xx.shape)\n",
    "cs = ax.contourf(xx, yy, Z,cmap=plt.get_cmap('plasma'))\n",
    "\n",
    "colors = ['cyan','orange']\n",
    "# Plot also the training points\n",
    "for i, color in zip(best_clf.classes_, colors):\n",
    "    idx = np.where(y_test == i)\n",
    "    i=int(i)\n",
    "    ax.scatter(X_test[idx, best_f1], X_test[idx, best_f2], c=color, label=target_names[i],\n",
    "                cmap=plt.get_cmap('plasma'), edgecolor='black', s=20)\n",
    "ax.set_title(\"Decision surface of Binary SGD\")\n",
    "ax.axis('tight')\n",
    "\n",
    "xmin, xmax = plt.xlim()\n",
    "ymin, ymax = plt.ylim()\n",
    "coef = best_clf.coef_\n",
    "intercept = best_clf.intercept_\n",
    "\n",
    "# Lets make a function to plot the hyperplanes used by the SVM for \n",
    "# Classification.\n",
    "\n",
    "def plot_hyperplane(c, color):\n",
    "    def line(x0):\n",
    "        return (-(x0 * coef[c, 0]) - intercept[c]) / coef[c, 1]\n",
    "\n",
    "    plt.plot([xmin, xmax], [line(xmin), line(xmax)],\n",
    "              ls=\"--\", color=color)\n",
    "\n",
    "plot_hyperplane(0, \"red\")"
   ]
  },
  {
   "cell_type": "code",
   "execution_count": null,
   "id": "88bd92ad",
   "metadata": {},
   "outputs": [],
   "source": []
  }
 ],
 "metadata": {
  "kernelspec": {
   "display_name": "Python 3 (ipykernel)",
   "language": "python",
   "name": "python3"
  },
  "language_info": {
   "codemirror_mode": {
    "name": "ipython",
    "version": 3
   },
   "file_extension": ".py",
   "mimetype": "text/x-python",
   "name": "python",
   "nbconvert_exporter": "python",
   "pygments_lexer": "ipython3",
   "version": "3.11.7"
  }
 },
 "nbformat": 4,
 "nbformat_minor": 5
}
