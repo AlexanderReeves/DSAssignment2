{
 "cells": [
  {
   "cell_type": "markdown",
   "id": "a83b53a7-b884-4e2d-9d10-a3198e703528",
   "metadata": {},
   "source": [
    "## Alexander Reeves, UNE COSC102 Data Science Assignment 2\n",
    "#### areeve28@myune.edu.au\n",
    "#### Plant Classification\n",
    "\n",
    "This project aims to train a computer on a dataset so that it can predict the site of a Cobra Lily plant \n",
    "when given two variables\n",
    "\n",
    "This project uses Python and the Scikit-Learn library, and can be run by pressing play on this page\n",
    "when loaded within a Jupyter Notebook.\n",
    "\n",
    "There is also an acompanying PDF report, and video walkthrough."
   ]
  },
  {
   "cell_type": "markdown",
   "id": "8a9df42b-042e-49d7-ba62-01c9dba81eef",
   "metadata": {},
   "source": [
    "#### 1. Load the dataset and partition the dataset in the train and test sets."
   ]
  },
  {
   "cell_type": "code",
   "execution_count": 10,
   "id": "8cbc1bc7-6452-4ebd-a9ad-192f141af647",
   "metadata": {},
   "outputs": [],
   "source": [
    "#Import the required libraries for this project\n",
    "\n",
    "import numpy as np #Python number library\n",
    "import matplotlib.pyplot as plt #Graph plotting library\n",
    "import pandas as pd #Pandas to load and handle the dataset\n",
    "from sklearn.linear_model import SGDClassifier #Machine learning classifier algorythm\n",
    "from sklearn.model_selection import cross_val_predict #Prediction based on the classification\n",
    "from sklearn.metrics import confusion_matrix, ConfusionMatrixDisplay #Confusion Matrix library\n",
    "from sklearn.model_selection import train_test_split #Splitting our training and testing data\n",
    "\n",
    "\n",
    "#Review the performance of our classifier\n",
    "from sklearn.metrics import recall_score\n",
    "from sklearn.metrics import precision_score\n",
    "from sklearn.metrics import f1_score\n",
    "from sklearn.metrics import roc_curve, auc"
   ]
  },
  {
   "cell_type": "code",
   "execution_count": 22,
   "id": "4c315237-98dc-449f-8938-a5d9cb6e1efa",
   "metadata": {},
   "outputs": [],
   "source": [
    "#Load the data set from a csv using a convenient re-usable function\n",
    "def load_dataset(Data_loc):\n",
    "    return pd.read_csv(Data_loc)\n",
    "\n",
    "#Load the data via the function\n",
    "plants_data = load_dataset('./data/Plants_Dataset.csv')\n",
    "\n",
    "#Alternatively, for a single data sets, we could load with this line\n",
    "#weather_data = pd.read_csv(\"./data/Plants_Dataset.csv\")\n",
    "\n",
    "#Check the data is loaded correctly\n",
    "plants_data.head()\n",
    "#Convert to numpy data as that will work with the functions/libraries\n",
    "#plants_data = plants_data.to_numpy()"
   ]
  },
  {
   "cell_type": "code",
   "execution_count": 32,
   "id": "65541228-ad96-48f2-95a3-b3b936c1331f",
   "metadata": {},
   "outputs": [
    {
     "ename": "AttributeError",
     "evalue": "'numpy.ndarray' object has no attribute 'columns'",
     "output_type": "error",
     "traceback": [
      "\u001b[1;31m---------------------------------------------------------------------------\u001b[0m",
      "\u001b[1;31mAttributeError\u001b[0m                            Traceback (most recent call last)",
      "Cell \u001b[1;32mIn[32], line 2\u001b[0m\n\u001b[0;32m      1\u001b[0m \u001b[38;5;66;03m#Train, Test, Split the data\u001b[39;00m\n\u001b[1;32m----> 2\u001b[0m \u001b[38;5;28mprint\u001b[39m(plants_data\u001b[38;5;241m.\u001b[39mcolumns)\n",
      "\u001b[1;31mAttributeError\u001b[0m: 'numpy.ndarray' object has no attribute 'columns'"
     ]
    }
   ],
   "source": [
    "#Train, Test, Split the data\n",
    "print(plants_data.columns)\n",
    "\n",
    "#X = plants_data.data\n",
    "#y = plants_data.target\n",
    "#nclasses = len(plants_data.target_names)\n",
    "#print(nclasses, \" classes total\")\n",
    "#Create a train test split\n",
    "#X_train, X_test, y_train, y_test = train_test_split(X, y)"
   ]
  },
  {
   "cell_type": "code",
   "execution_count": null,
   "id": "c17c8858-d0db-4312-81fb-105e829b1130",
   "metadata": {},
   "outputs": [],
   "source": []
  }
 ],
 "metadata": {
  "kernelspec": {
   "display_name": "Python 3 (ipykernel)",
   "language": "python",
   "name": "python3"
  },
  "language_info": {
   "codemirror_mode": {
    "name": "ipython",
    "version": 3
   },
   "file_extension": ".py",
   "mimetype": "text/x-python",
   "name": "python",
   "nbconvert_exporter": "python",
   "pygments_lexer": "ipython3",
   "version": "3.11.7"
  }
 },
 "nbformat": 4,
 "nbformat_minor": 5
}
