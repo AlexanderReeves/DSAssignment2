{
 "cells": [
  {
   "cell_type": "markdown",
   "id": "7512b841-6eba-4d2f-a7ff-2f21e54ad5a0",
   "metadata": {},
   "source": [
    "## Alexander Reeves, UNE COSC102 Data Science Assessment 2\n",
    "#### areeve28@myune.edu.au\n",
    "#### Plant Classification\n",
    "\n",
    "This project aims to train a computer on a dataset so that it can predict the site of a Cobra Lily plant \n",
    "when given two variables\n",
    "\n",
    "This project uses Python and the Scikit-Learn library, and can be run by pressing play on this page\n",
    "when loaded within a Jupyter Notebook.\n",
    "\n",
    "There is also an acompanying PDF report, and video walkthrough.kthrough.\""
   ]
  },
  {
   "cell_type": "markdown",
   "id": "268b6f99-6d38-417f-b847-a1929eba0cbc",
   "metadata": {},
   "source": [
    "#### 1. Load the dataset and partition the dataset in the train and test sets."
   ]
  },
  {
   "cell_type": "code",
   "execution_count": 3,
   "id": "0fbec1e2-450b-4ecb-a443-47e1bd34dfe3",
   "metadata": {},
   "outputs": [],
   "source": [
    "#Import the relevant libraries for this project\n",
    "\n",
    "import pandas as pd #Pandas to load and handle the dataset\n",
    "import numpy as np #Python number library\n",
    "\n",
    "from sklearn.neighbors import KNeighborsClassifier #Machine learning algorythm\n",
    "from sklearn.model_selection import train_test_split #Split our training and testing data\n",
    "from sklearn.metrics import confusion_matrix #Confusion Matrix Library\n",
    "from sklearn.metrics import ConfusionMatrixDisplay #Display libraries for above CM\n",
    "from sklearn.metrics import accuracy_score #Checks the accuracy of our predictor\n",
    "from sklearn import preprocessing #Prepares our data for manipulation and use\n",
    "from sklearn.model_selection import cross_val_score #Accuracy of the classifier\n",
    "from sklearn.model_selection import cross_val_predict #Prediction tools\n",
    "from sklearn.metrics import roc_auc_score #Roc Auc Score\n",
    "\n",
    "#Other classification scoring tools\n",
    "from sklearn.metrics import precision_score, recall_score, f1_score\n",
    "#Visual plotting libaries\n",
    "import matplotlib.pyplot as plt\n",
    "from matplotlib.colors import *\n",
    "#Alternative auto reporting tool for scores\n",
    "from sklearn.metrics import classification_report\n",
    "\n"
   ]
  },
  {
   "cell_type": "code",
   "execution_count": 4,
   "id": "286ec219-16a9-491e-9e3d-f5cecd0a532e",
   "metadata": {},
   "outputs": [
    {
     "data": {
      "text/html": [
       "<div>\n",
       "<style scoped>\n",
       "    .dataframe tbody tr th:only-of-type {\n",
       "        vertical-align: middle;\n",
       "    }\n",
       "\n",
       "    .dataframe tbody tr th {\n",
       "        vertical-align: top;\n",
       "    }\n",
       "\n",
       "    .dataframe thead th {\n",
       "        text-align: right;\n",
       "    }\n",
       "</style>\n",
       "<table border=\"1\" class=\"dataframe\">\n",
       "  <thead>\n",
       "    <tr style=\"text-align: right;\">\n",
       "      <th></th>\n",
       "      <th>Site</th>\n",
       "      <th>height</th>\n",
       "      <th>mouth_diam</th>\n",
       "      <th>tube_diam</th>\n",
       "      <th>keel_diam</th>\n",
       "      <th>wingspread</th>\n",
       "      <th>hoodarea</th>\n",
       "      <th>wingarea</th>\n",
       "      <th>tubearea</th>\n",
       "      <th>tubemass_g</th>\n",
       "      <th>wingmass_g</th>\n",
       "      <th>Ca_ppm</th>\n",
       "      <th>P_ppm</th>\n",
       "      <th>K_ppm</th>\n",
       "      <th>Mg_ppm</th>\n",
       "      <th>C_pct</th>\n",
       "      <th>H_pct</th>\n",
       "      <th>N_pct</th>\n",
       "    </tr>\n",
       "  </thead>\n",
       "  <tbody>\n",
       "    <tr>\n",
       "      <th>0</th>\n",
       "      <td>TJH</td>\n",
       "      <td>654</td>\n",
       "      <td>38.4</td>\n",
       "      <td>16.6</td>\n",
       "      <td>6.4</td>\n",
       "      <td>55</td>\n",
       "      <td>63.77</td>\n",
       "      <td>33.65</td>\n",
       "      <td>87.15</td>\n",
       "      <td>3.54</td>\n",
       "      <td>0.29</td>\n",
       "      <td>717.90</td>\n",
       "      <td>997.12</td>\n",
       "      <td>10699.50</td>\n",
       "      <td>1983.40</td>\n",
       "      <td>49.43</td>\n",
       "      <td>5.50</td>\n",
       "      <td>0.93</td>\n",
       "    </tr>\n",
       "    <tr>\n",
       "      <th>1</th>\n",
       "      <td>TJH</td>\n",
       "      <td>413</td>\n",
       "      <td>22.2</td>\n",
       "      <td>17.2</td>\n",
       "      <td>5.9</td>\n",
       "      <td>60</td>\n",
       "      <td>21.10</td>\n",
       "      <td>7.36</td>\n",
       "      <td>44.78</td>\n",
       "      <td>1.48</td>\n",
       "      <td>0.06</td>\n",
       "      <td>392.74</td>\n",
       "      <td>876.99</td>\n",
       "      <td>9576.49</td>\n",
       "      <td>1540.73</td>\n",
       "      <td>50.24</td>\n",
       "      <td>5.63</td>\n",
       "      <td>0.94</td>\n",
       "    </tr>\n",
       "    <tr>\n",
       "      <th>2</th>\n",
       "      <td>TJH</td>\n",
       "      <td>610</td>\n",
       "      <td>31.2</td>\n",
       "      <td>19.9</td>\n",
       "      <td>6.7</td>\n",
       "      <td>78</td>\n",
       "      <td>28.47</td>\n",
       "      <td>15.75</td>\n",
       "      <td>56.64</td>\n",
       "      <td>2.20</td>\n",
       "      <td>0.16</td>\n",
       "      <td>402.45</td>\n",
       "      <td>1287.62</td>\n",
       "      <td>11738.73</td>\n",
       "      <td>1514.21</td>\n",
       "      <td>50.77</td>\n",
       "      <td>5.58</td>\n",
       "      <td>1.08</td>\n",
       "    </tr>\n",
       "    <tr>\n",
       "      <th>3</th>\n",
       "      <td>TJH</td>\n",
       "      <td>546</td>\n",
       "      <td>34.4</td>\n",
       "      <td>20.8</td>\n",
       "      <td>6.3</td>\n",
       "      <td>95</td>\n",
       "      <td>48.82</td>\n",
       "      <td>30.47</td>\n",
       "      <td>76.31</td>\n",
       "      <td>2.95</td>\n",
       "      <td>0.24</td>\n",
       "      <td>497.16</td>\n",
       "      <td>662.55</td>\n",
       "      <td>11173.37</td>\n",
       "      <td>1399.24</td>\n",
       "      <td>50.27</td>\n",
       "      <td>5.67</td>\n",
       "      <td>0.88</td>\n",
       "    </tr>\n",
       "    <tr>\n",
       "      <th>4</th>\n",
       "      <td>TJH</td>\n",
       "      <td>665</td>\n",
       "      <td>30.5</td>\n",
       "      <td>20.4</td>\n",
       "      <td>6.6</td>\n",
       "      <td>30</td>\n",
       "      <td>29.48</td>\n",
       "      <td>11.33</td>\n",
       "      <td>100.22</td>\n",
       "      <td>3.36</td>\n",
       "      <td>0.08</td>\n",
       "      <td>504.48</td>\n",
       "      <td>1115.53</td>\n",
       "      <td>7017.39</td>\n",
       "      <td>1964.15</td>\n",
       "      <td>50.20</td>\n",
       "      <td>5.56</td>\n",
       "      <td>0.98</td>\n",
       "    </tr>\n",
       "  </tbody>\n",
       "</table>\n",
       "</div>"
      ],
      "text/plain": [
       "  Site  height  mouth_diam  tube_diam  keel_diam  wingspread  hoodarea  \\\n",
       "0  TJH     654        38.4       16.6        6.4          55     63.77   \n",
       "1  TJH     413        22.2       17.2        5.9          60     21.10   \n",
       "2  TJH     610        31.2       19.9        6.7          78     28.47   \n",
       "3  TJH     546        34.4       20.8        6.3          95     48.82   \n",
       "4  TJH     665        30.5       20.4        6.6          30     29.48   \n",
       "\n",
       "   wingarea  tubearea  tubemass_g  wingmass_g  Ca_ppm    P_ppm     K_ppm  \\\n",
       "0     33.65     87.15        3.54        0.29  717.90   997.12  10699.50   \n",
       "1      7.36     44.78        1.48        0.06  392.74   876.99   9576.49   \n",
       "2     15.75     56.64        2.20        0.16  402.45  1287.62  11738.73   \n",
       "3     30.47     76.31        2.95        0.24  497.16   662.55  11173.37   \n",
       "4     11.33    100.22        3.36        0.08  504.48  1115.53   7017.39   \n",
       "\n",
       "    Mg_ppm  C_pct  H_pct  N_pct  \n",
       "0  1983.40  49.43   5.50   0.93  \n",
       "1  1540.73  50.24   5.63   0.94  \n",
       "2  1514.21  50.77   5.58   1.08  \n",
       "3  1399.24  50.27   5.67   0.88  \n",
       "4  1964.15  50.20   5.56   0.98  "
      ]
     },
     "execution_count": 4,
     "metadata": {},
     "output_type": "execute_result"
    }
   ],
   "source": [
    "#Load the dataset\n",
    "\n",
    "#Use pandas to load and handle the csv file\n",
    "data = pd.read_csv(\"./data/Plants_Dataset.csv\")\n",
    "#Display a preview of the data contained in this set\n",
    "data.head()"
   ]
  },
  {
   "cell_type": "code",
   "execution_count": 5,
   "id": "58124854-6281-4b6a-bd0e-239cc5da5004",
   "metadata": {},
   "outputs": [
    {
     "name": "stdout",
     "output_type": "stream",
     "text": [
      "Total NaN: 0\n"
     ]
    }
   ],
   "source": [
    "#A handy function to check our data for Nan values that should be cleaned\n",
    "def check_NaN(dataframe):\n",
    "    print(\"Total NaN:\", dataframe.isnull().values.sum())\n",
    "    #print(\"NaN by column:\\n\",dataframe.isnull().sum())\n",
    "    return\n",
    "\n",
    "#In this case, our data comes ready to use.\n",
    "check_NaN(data)"
   ]
  },
  {
   "cell_type": "code",
   "execution_count": 6,
   "id": "54be07a7-7597-48b5-b1fe-c599d3e3bdef",
   "metadata": {},
   "outputs": [
    {
     "name": "stdout",
     "output_type": "stream",
     "text": [
      "<class 'pandas.core.frame.DataFrame'>\n",
      "RangeIndex: 80 entries, 0 to 79\n",
      "Data columns (total 18 columns):\n",
      " #   Column      Non-Null Count  Dtype  \n",
      "---  ------      --------------  -----  \n",
      " 0   Site        80 non-null     object \n",
      " 1   height      80 non-null     int64  \n",
      " 2   mouth_diam  80 non-null     float64\n",
      " 3   tube_diam   80 non-null     float64\n",
      " 4   keel_diam   80 non-null     float64\n",
      " 5   wingspread  80 non-null     int64  \n",
      " 6   hoodarea    80 non-null     float64\n",
      " 7   wingarea    80 non-null     float64\n",
      " 8   tubearea    80 non-null     float64\n",
      " 9   tubemass_g  80 non-null     float64\n",
      " 10  wingmass_g  80 non-null     float64\n",
      " 11  Ca_ppm      80 non-null     float64\n",
      " 12  P_ppm       80 non-null     float64\n",
      " 13  K_ppm       80 non-null     float64\n",
      " 14  Mg_ppm      80 non-null     float64\n",
      " 15  C_pct       80 non-null     float64\n",
      " 16  H_pct       80 non-null     float64\n",
      " 17  N_pct       80 non-null     float64\n",
      "dtypes: float64(15), int64(2), object(1)\n",
      "memory usage: 11.4+ KB\n"
     ]
    }
   ],
   "source": [
    "data.info()"
   ]
  },
  {
   "cell_type": "code",
   "execution_count": 7,
   "id": "59346f4c-e9cc-4b55-a457-c157abda7b6a",
   "metadata": {},
   "outputs": [
    {
     "name": "stderr",
     "output_type": "stream",
     "text": [
      "C:\\Users\\reeve\\AppData\\Local\\Temp\\ipykernel_12052\\2942119713.py:3: UserWarning: Pandas doesn't allow columns to be created via a new attribute name - see https://pandas.pydata.org/pandas-docs/stable/indexing.html#attribute-access\n",
      "  data.target = data.Site\n",
      "C:\\Users\\reeve\\AppData\\Local\\Temp\\ipykernel_12052\\2942119713.py:7: UserWarning: Pandas doesn't allow columns to be created via a new attribute name - see https://pandas.pydata.org/pandas-docs/stable/indexing.html#attribute-access\n",
      "  data.features = data.drop(['Site'],axis=1)\n"
     ]
    }
   ],
   "source": [
    "#We are trying to make predictinons for the Site column\n",
    "#Set the data target to the Site column\n",
    "#data.target = data.Site\n",
    "targets = data['Site']\n",
    "\n",
    "#All the other columns are currently features, though soon\n",
    "#the best features will be selected\n",
    "#data.features = data.drop(['Site'],axis=1)\n",
    "feature_df = data.drop(['Site'],axis=1)\n",
    "\n",
    "#Set our data into a training and testing split\n",
    "x_train, x_test, y_train, y_test = train_test_split(data.features, data.target,\n",
    "                                                    test_size=0.2,random_state=3)\n",
    "\n",
    "#Process the data to the right format for the KNN classifier\n",
    "data.features = preprocessing.MinMaxScaler().fit_transform(data.features)"
   ]
  },
  {
   "cell_type": "markdown",
   "id": "f5c9c211-bfd0-40c6-a197-04e5f9869f54",
   "metadata": {},
   "source": [
    "#### 2. Select the 2 most higher-performing features based upon cross-validation carried out on the training dataset."
   ]
  },
  {
   "cell_type": "code",
   "execution_count": 9,
   "id": "20faf346-ec68-485c-b87d-2bf470fbdd8f",
   "metadata": {},
   "outputs": [
    {
     "name": "stdout",
     "output_type": "stream",
     "text": [
      "comparing features  1  and  2 .\n",
      "comparing features  1  and  3 .\n",
      "comparing features  1  and  4 .\n",
      "comparing features  1  and  5 .\n",
      "comparing features  1  and  6 .\n",
      "comparing features  1  and  7 .\n",
      "comparing features  1  and  8 .\n",
      "comparing features  1  and  9 .\n",
      "comparing features  1  and  10 .\n",
      "comparing features  1  and  11 .\n",
      "comparing features  1  and  12 .\n",
      "comparing features  1  and  13 .\n",
      "comparing features  1  and  14 .\n",
      "comparing features  1  and  15 .\n",
      "comparing features  1  and  16 .\n",
      "comparing features  1  and  17 .\n",
      "comparing features  2  and  1 .\n",
      "comparing features  2  and  3 .\n",
      "comparing features  2  and  4 .\n",
      "comparing features  2  and  5 .\n",
      "comparing features  2  and  6 .\n",
      "comparing features  2  and  7 .\n",
      "comparing features  2  and  8 .\n",
      "comparing features  2  and  9 .\n",
      "comparing features  2  and  10 .\n",
      "comparing features  2  and  11 .\n",
      "comparing features  2  and  12 .\n",
      "comparing features  2  and  13 .\n",
      "comparing features  2  and  14 .\n",
      "comparing features  2  and  15 .\n",
      "comparing features  2  and  16 .\n",
      "comparing features  2  and  17 .\n",
      "comparing features  3  and  1 .\n",
      "comparing features  3  and  2 .\n",
      "comparing features  3  and  4 .\n",
      "comparing features  3  and  5 .\n",
      "comparing features  3  and  6 .\n",
      "comparing features  3  and  7 .\n",
      "comparing features  3  and  8 .\n",
      "comparing features  3  and  9 .\n",
      "comparing features  3  and  10 .\n",
      "comparing features  3  and  11 .\n",
      "comparing features  3  and  12 .\n",
      "comparing features  3  and  13 .\n",
      "comparing features  3  and  14 .\n",
      "comparing features  3  and  15 .\n",
      "comparing features  3  and  16 .\n",
      "comparing features  3  and  17 .\n",
      "comparing features  4  and  1 .\n",
      "comparing features  4  and  2 .\n",
      "comparing features  4  and  3 .\n",
      "comparing features  4  and  5 .\n",
      "comparing features  4  and  6 .\n",
      "comparing features  4  and  7 .\n",
      "comparing features  4  and  8 .\n",
      "comparing features  4  and  9 .\n",
      "comparing features  4  and  10 .\n",
      "comparing features  4  and  11 .\n",
      "comparing features  4  and  12 .\n",
      "comparing features  4  and  13 .\n",
      "comparing features  4  and  14 .\n",
      "comparing features  4  and  15 .\n",
      "comparing features  4  and  16 .\n",
      "comparing features  4  and  17 .\n",
      "comparing features  5  and  1 .\n",
      "comparing features  5  and  2 .\n",
      "comparing features  5  and  3 .\n",
      "comparing features  5  and  4 .\n",
      "comparing features  5  and  6 .\n",
      "comparing features  5  and  7 .\n",
      "comparing features  5  and  8 .\n",
      "comparing features  5  and  9 .\n",
      "comparing features  5  and  10 .\n",
      "comparing features  5  and  11 .\n",
      "comparing features  5  and  12 .\n",
      "comparing features  5  and  13 .\n",
      "comparing features  5  and  14 .\n",
      "comparing features  5  and  15 .\n",
      "comparing features  5  and  16 .\n",
      "comparing features  5  and  17 .\n",
      "comparing features  6  and  1 .\n",
      "comparing features  6  and  2 .\n",
      "comparing features  6  and  3 .\n",
      "comparing features  6  and  4 .\n",
      "comparing features  6  and  5 .\n",
      "comparing features  6  and  7 .\n",
      "comparing features  6  and  8 .\n",
      "comparing features  6  and  9 .\n",
      "comparing features  6  and  10 .\n",
      "comparing features  6  and  11 .\n",
      "comparing features  6  and  12 .\n",
      "comparing features  6  and  13 .\n",
      "comparing features  6  and  14 .\n",
      "comparing features  6  and  15 .\n",
      "comparing features  6  and  16 .\n",
      "comparing features  6  and  17 .\n",
      "comparing features  7  and  1 .\n",
      "comparing features  7  and  2 .\n",
      "comparing features  7  and  3 .\n",
      "comparing features  7  and  4 .\n",
      "comparing features  7  and  5 .\n",
      "comparing features  7  and  6 .\n",
      "comparing features  7  and  8 .\n",
      "comparing features  7  and  9 .\n",
      "comparing features  7  and  10 .\n",
      "comparing features  7  and  11 .\n",
      "comparing features  7  and  12 .\n",
      "comparing features  7  and  13 .\n",
      "comparing features  7  and  14 .\n",
      "comparing features  7  and  15 .\n",
      "comparing features  7  and  16 .\n",
      "comparing features  7  and  17 .\n",
      "comparing features  8  and  1 .\n",
      "comparing features  8  and  2 .\n",
      "comparing features  8  and  3 .\n",
      "comparing features  8  and  4 .\n",
      "comparing features  8  and  5 .\n",
      "comparing features  8  and  6 .\n",
      "comparing features  8  and  7 .\n",
      "comparing features  8  and  9 .\n",
      "comparing features  8  and  10 .\n",
      "comparing features  8  and  11 .\n",
      "comparing features  8  and  12 .\n",
      "comparing features  8  and  13 .\n",
      "comparing features  8  and  14 .\n",
      "comparing features  8  and  15 .\n",
      "comparing features  8  and  16 .\n",
      "comparing features  8  and  17 .\n",
      "comparing features  9  and  1 .\n",
      "comparing features  9  and  2 .\n",
      "comparing features  9  and  3 .\n",
      "comparing features  9  and  4 .\n",
      "comparing features  9  and  5 .\n",
      "comparing features  9  and  6 .\n",
      "comparing features  9  and  7 .\n",
      "comparing features  9  and  8 .\n",
      "comparing features  9  and  10 .\n",
      "comparing features  9  and  11 .\n",
      "comparing features  9  and  12 .\n",
      "comparing features  9  and  13 .\n",
      "comparing features  9  and  14 .\n",
      "comparing features  9  and  15 .\n",
      "comparing features  9  and  16 .\n",
      "comparing features  9  and  17 .\n",
      "comparing features  10  and  1 .\n",
      "comparing features  10  and  2 .\n",
      "comparing features  10  and  3 .\n",
      "comparing features  10  and  4 .\n",
      "comparing features  10  and  5 .\n",
      "comparing features  10  and  6 .\n",
      "comparing features  10  and  7 .\n",
      "comparing features  10  and  8 .\n",
      "comparing features  10  and  9 .\n",
      "comparing features  10  and  11 .\n",
      "comparing features  10  and  12 .\n",
      "comparing features  10  and  13 .\n",
      "comparing features  10  and  14 .\n",
      "comparing features  10  and  15 .\n",
      "comparing features  10  and  16 .\n",
      "comparing features  10  and  17 .\n",
      "comparing features  11  and  1 .\n",
      "comparing features  11  and  2 .\n",
      "comparing features  11  and  3 .\n",
      "comparing features  11  and  4 .\n",
      "comparing features  11  and  5 .\n",
      "comparing features  11  and  6 .\n",
      "comparing features  11  and  7 .\n",
      "comparing features  11  and  8 .\n",
      "comparing features  11  and  9 .\n",
      "comparing features  11  and  10 .\n",
      "comparing features  11  and  12 .\n",
      "comparing features  11  and  13 .\n",
      "comparing features  11  and  14 .\n",
      "comparing features  11  and  15 .\n",
      "comparing features  11  and  16 .\n",
      "comparing features  11  and  17 .\n",
      "comparing features  12  and  1 .\n",
      "comparing features  12  and  2 .\n",
      "comparing features  12  and  3 .\n",
      "comparing features  12  and  4 .\n",
      "comparing features  12  and  5 .\n",
      "comparing features  12  and  6 .\n",
      "comparing features  12  and  7 .\n",
      "comparing features  12  and  8 .\n",
      "comparing features  12  and  9 .\n",
      "comparing features  12  and  10 .\n",
      "comparing features  12  and  11 .\n",
      "comparing features  12  and  13 .\n",
      "comparing features  12  and  14 .\n",
      "comparing features  12  and  15 .\n",
      "comparing features  12  and  16 .\n",
      "comparing features  12  and  17 .\n",
      "comparing features  13  and  1 .\n",
      "comparing features  13  and  2 .\n",
      "comparing features  13  and  3 .\n",
      "comparing features  13  and  4 .\n",
      "comparing features  13  and  5 .\n",
      "comparing features  13  and  6 .\n",
      "comparing features  13  and  7 .\n",
      "comparing features  13  and  8 .\n",
      "comparing features  13  and  9 .\n",
      "comparing features  13  and  10 .\n",
      "comparing features  13  and  11 .\n",
      "comparing features  13  and  12 .\n",
      "comparing features  13  and  14 .\n",
      "comparing features  13  and  15 .\n",
      "comparing features  13  and  16 .\n",
      "comparing features  13  and  17 .\n",
      "comparing features  14  and  1 .\n",
      "comparing features  14  and  2 .\n",
      "comparing features  14  and  3 .\n",
      "comparing features  14  and  4 .\n",
      "comparing features  14  and  5 .\n",
      "comparing features  14  and  6 .\n",
      "comparing features  14  and  7 .\n",
      "comparing features  14  and  8 .\n",
      "comparing features  14  and  9 .\n",
      "comparing features  14  and  10 .\n",
      "comparing features  14  and  11 .\n",
      "comparing features  14  and  12 .\n",
      "comparing features  14  and  13 .\n",
      "comparing features  14  and  15 .\n",
      "comparing features  14  and  16 .\n",
      "comparing features  14  and  17 .\n",
      "comparing features  15  and  1 .\n",
      "comparing features  15  and  2 .\n",
      "comparing features  15  and  3 .\n",
      "comparing features  15  and  4 .\n",
      "comparing features  15  and  5 .\n",
      "comparing features  15  and  6 .\n",
      "comparing features  15  and  7 .\n",
      "comparing features  15  and  8 .\n",
      "comparing features  15  and  9 .\n",
      "comparing features  15  and  10 .\n",
      "comparing features  15  and  11 .\n",
      "comparing features  15  and  12 .\n",
      "comparing features  15  and  13 .\n",
      "comparing features  15  and  14 .\n",
      "comparing features  15  and  16 .\n",
      "comparing features  15  and  17 .\n",
      "comparing features  16  and  1 .\n",
      "comparing features  16  and  2 .\n",
      "comparing features  16  and  3 .\n",
      "comparing features  16  and  4 .\n",
      "comparing features  16  and  5 .\n",
      "comparing features  16  and  6 .\n",
      "comparing features  16  and  7 .\n",
      "comparing features  16  and  8 .\n",
      "comparing features  16  and  9 .\n",
      "comparing features  16  and  10 .\n",
      "comparing features  16  and  11 .\n",
      "comparing features  16  and  12 .\n",
      "comparing features  16  and  13 .\n",
      "comparing features  16  and  14 .\n",
      "comparing features  16  and  15 .\n",
      "comparing features  16  and  17 .\n",
      "comparing features  17  and  1 .\n",
      "comparing features  17  and  2 .\n",
      "comparing features  17  and  3 .\n",
      "comparing features  17  and  4 .\n",
      "comparing features  17  and  5 .\n",
      "comparing features  17  and  6 .\n",
      "comparing features  17  and  7 .\n",
      "comparing features  17  and  8 .\n",
      "comparing features  17  and  9 .\n",
      "comparing features  17  and  10 .\n",
      "comparing features  17  and  11 .\n",
      "comparing features  17  and  12 .\n",
      "comparing features  17  and  13 .\n",
      "comparing features  17  and  14 .\n",
      "comparing features  17  and  15 .\n",
      "comparing features  17  and  16 .\n",
      "Best accuracy:  81.25 . Feature A:  4 . Feature 2:  6 .\n"
     ]
    }
   ],
   "source": [
    "#Determining the best data columns to use for our classifier\n",
    "\n",
    "#A list of our available data columns for processing\n",
    "columns = data.columns\n",
    "\n",
    "#Keeping track of our best results so far, based on the comparisons made\n",
    "best_accuracy = 0\n",
    "best_f1 = 0\n",
    "best_f2 = 0\n",
    "\n",
    "#Loop through all features and compare each 2 feature combinations results\n",
    "#Column 1 is the site, which is being skipped as it is the target\n",
    "for f1 in range(1,len(columns)):\n",
    "    for f2 in range(1,len(columns)):\n",
    "        #Ensure we are comparing two different data columns, exit if they are the same\n",
    "        if f1 == f2:\n",
    "            continue\n",
    "        #Set the columns from our data to use in this check\n",
    "        data.features = data[[columns[f1],columns[f2]]]\n",
    "        print(\"comparing features \" , f1, \" and \" , f2, \".\")\n",
    "\n",
    "        #Test against multiple K values, for increased accuracy.\n",
    "        k_scores = []\n",
    "        #The K can go all the way to 73, though this increases the processing time\n",
    "        #Instead I opted to use all data with n_neighbours up to 5 for speed\n",
    "        #(for the time being)\n",
    "        for k in range(1,5):\n",
    "            knn = KNeighborsClassifier(n_neighbors=k)\n",
    "            scores = cross_val_score(knn,data.features,data.target,cv=10,scoring='accuracy')\n",
    "            k_scores.append(scores)\n",
    "\n",
    "        #The optimal K result found for these two classes\n",
    "        optimal_k = np.argmax(k_scores)  \n",
    "        #print(\"Best K Score Found: \", np.argmax(k_scores))\n",
    "        #A failsafe to ensure we don't run a classifier with a K of 0\n",
    "        if optimal_k == 0:\n",
    "            continue\n",
    "\n",
    "        #Run the classifier with optimal K\n",
    "        classifier = KNeighborsClassifier(optimal_k)\n",
    "        classifier.fit(x_train, y_train)\n",
    "        predictions = classifier.predict(x_test)\n",
    "\n",
    "        #Check the accuracy\n",
    "        accuracy = accuracy_score(y_test, predictions)*100\n",
    "        #print(\"Accuracy:\", accuracy)\n",
    "        if accuracy > best_accuracy:\n",
    "            best_accuracy = accuracy\n",
    "            best_f1 = f1\n",
    "            best_f2 = f2\n",
    "\n",
    "print(\"Best accuracy: \", best_accuracy, \". Feature A: \", best_f1, \". Feature 2: \", best_f2, \".\")"
   ]
  },
  {
   "cell_type": "code",
   "execution_count": 64,
   "id": "5b44cbde-b571-4786-966c-f0f7246bf263",
   "metadata": {},
   "outputs": [
    {
     "name": "stdout",
     "output_type": "stream",
     "text": [
      "The selected columns are  keel_diam  and  hoodarea\n",
      "  Site  height  mouth_diam  tube_diam  keel_diam  wingspread  hoodarea  \\\n",
      "0  TJH     654        38.4       16.6        6.4          55     63.77   \n",
      "1  TJH     413        22.2       17.2        5.9          60     21.10   \n",
      "2  TJH     610        31.2       19.9        6.7          78     28.47   \n",
      "3  TJH     546        34.4       20.8        6.3          95     48.82   \n",
      "4  TJH     665        30.5       20.4        6.6          30     29.48   \n",
      "\n",
      "   wingarea  tubearea  tubemass_g  wingmass_g  Ca_ppm    P_ppm     K_ppm  \\\n",
      "0     33.65     87.15        3.54        0.29  717.90   997.12  10699.50   \n",
      "1      7.36     44.78        1.48        0.06  392.74   876.99   9576.49   \n",
      "2     15.75     56.64        2.20        0.16  402.45  1287.62  11738.73   \n",
      "3     30.47     76.31        2.95        0.24  497.16   662.55  11173.37   \n",
      "4     11.33    100.22        3.36        0.08  504.48  1115.53   7017.39   \n",
      "\n",
      "    Mg_ppm  C_pct  H_pct  N_pct  Site_int  \n",
      "0  1983.40  49.43   5.50   0.93         0  \n",
      "1  1540.73  50.24   5.63   0.94         0  \n",
      "2  1514.21  50.77   5.58   1.08         0  \n",
      "3  1399.24  50.27   5.67   0.88         0  \n",
      "4  1964.15  50.20   5.56   0.98         0   [[0.36363636 0.78975656]\n",
      " [0.32575758 0.1152387 ]\n",
      " [0.38636364 0.23174202]\n",
      " [0.35606061 0.55343029]\n",
      " [0.37878788 0.24770787]\n",
      " [0.37878788 0.66171356]\n",
      " [0.43939394 0.74138476]\n",
      " [0.32575758 0.38808094]\n",
      " [0.5        0.32263674]\n",
      " [0.32575758 0.75308252]\n",
      " [0.46212121 0.44087891]\n",
      " [0.29545455 1.        ]\n",
      " [0.40909091 0.83259564]\n",
      " [0.43181818 0.87638318]\n",
      " [0.32575758 0.70328802]\n",
      " [0.25757576 0.45083781]\n",
      " [0.34090909 0.65333544]\n",
      " [0.31818182 0.41669301]\n",
      " [0.37878788 0.29149542]\n",
      " [0.32575758 0.50474233]\n",
      " [0.37121212 0.5924755 ]\n",
      " [0.59848485 0.39487828]\n",
      " [0.36363636 0.3349668 ]\n",
      " [0.54545455 0.31979134]\n",
      " [0.41666667 0.41716725]\n",
      " [0.25       0.51169776]\n",
      " [0.32575758 0.65301929]\n",
      " [0.36363636 0.4886184 ]\n",
      " [0.22727273 0.65301929]\n",
      " [0.33333333 0.38808094]\n",
      " [0.41666667 0.5953209 ]\n",
      " [0.34090909 0.67736326]\n",
      " [0.28787879 0.34476763]\n",
      " [0.28030303 0.71419538]\n",
      " [0.24242424 0.5298767 ]\n",
      " [0.28787879 0.48245337]\n",
      " [0.34090909 0.60085362]\n",
      " [0.40909091 0.20708188]\n",
      " [0.29545455 0.49383497]\n",
      " [0.33333333 0.56433765]\n",
      " [0.14393939 0.48766993]\n",
      " [0.41666667 0.36294657]\n",
      " [0.34090909 0.4502055 ]\n",
      " [0.         0.55437875]\n",
      " [1.         0.33180525]\n",
      " [0.25       0.36942776]\n",
      " [0.08333333 0.30240278]\n",
      " [0.22727273 0.29955738]\n",
      " [0.16666667 0.59057856]\n",
      " [0.25       0.48925071]\n",
      " [0.43181818 0.32706291]\n",
      " [0.37878788 0.64827695]\n",
      " [0.3030303  0.80161239]\n",
      " [0.18181818 0.59737591]\n",
      " [0.13636364 0.75829908]\n",
      " [0.15151515 0.86942776]\n",
      " [0.10606061 0.66598166]\n",
      " [0.25       0.72162504]\n",
      " [0.29545455 0.7233639 ]\n",
      " [0.26515152 0.58425545]\n",
      " [0.24242424 0.57508694]\n",
      " [0.53787879 0.73442934]\n",
      " [0.23484848 0.14574771]\n",
      " [0.38636364 0.56101802]\n",
      " [0.38636364 0.47644641]\n",
      " [0.04545455 0.24343977]\n",
      " [0.51515152 0.73442934]\n",
      " [0.38636364 0.23000316]\n",
      " [0.31818182 0.55595953]\n",
      " [0.62121212 0.20471072]\n",
      " [0.67424242 0.        ]\n",
      " [0.43939394 0.23300664]\n",
      " [0.63636364 0.48846032]\n",
      " [0.75757576 0.1764148 ]\n",
      " [0.59848485 0.34619033]\n",
      " [0.62121212 0.43898198]\n",
      " [0.59848485 0.31315207]\n",
      " [0.54545455 0.27189377]\n",
      " [0.46969697 0.58836548]\n",
      " [0.25       0.31093898]]\n",
      "<class 'pandas.core.frame.DataFrame'>\n"
     ]
    }
   ],
   "source": [
    "#Pick the chosen columns out of the data\n",
    "\n",
    "#Get the column titles as a text array\n",
    "column_titles = list(data.columns.values)\n",
    "data.features = data[[column_titles[best_f1],column_titles[best_f2]]]\n",
    "\n",
    "#We can now see a preview of the two columns selected by the classificatin tests\n",
    "print(\"The selected columns are \",column_titles[best_f1], \" and \" , column_titles[best_f2])\n",
    "\n",
    "#The data has a Site column that is strings instead of \n",
    "#Using ints as shown in the lecture examples\n",
    "#The column can be converted to ints via this function\n",
    "data['Site_int'] = pd.factorize(data.Site)[0]\n",
    "\n",
    "#Set our target to be the new column\n",
    "data.target = data.Site_int\n",
    "\n",
    "#Prepare the data\n",
    "data.features = preprocessing.MinMaxScaler().fit_transform(data.features)\n",
    "\n",
    "#Create our official Train and Test splits now that our features have been chosen\n",
    "x_train, x_test, y_train, y_test = train_test_split(data.features,data.target, test_size=0.2,random_state=3)\n",
    "\n",
    "print(data.head() , data.features)"
   ]
  },
  {
   "cell_type": "code",
   "execution_count": 11,
   "id": "3aef9fb0-557c-4f4f-a627-f6ba65cba3a9",
   "metadata": {},
   "outputs": [
    {
     "name": "stdout",
     "output_type": "stream",
     "text": [
      "Optimal k with cross-validation:  2\n"
     ]
    }
   ],
   "source": [
    "#A more thorough check on K scores with the updated data.\n",
    "k_scores = []\n",
    "\n",
    "#K was only checked up to 5 when determining which features to use,\n",
    "#but now that we have made a decision, a more thorough check can be made without\n",
    "#Spending too much time processing.\n",
    "for k in range(1,5):\n",
    "    knn = KNeighborsClassifier(n_neighbors=k)\n",
    "    #Cv value is the amout of folds (divide the data into 10 folds)\n",
    "    #Each fold is tested against the 9 remaining sections which are used for training\n",
    "    scores = cross_val_score(knn,data.features,data.target,cv=10,scoring='accuracy')\n",
    "    #Get the average score from the 10 tests, and add it to the K_scores\n",
    "    k_scores.append(scores.mean())\n",
    "\n",
    "#Find the highest value in the K_scores array\n",
    "optimal_k = np.argmax(k_scores)    \n",
    "print(\"Optimal k with cross-validation: \", np.argmax(k_scores))  "
   ]
  },
  {
   "cell_type": "code",
   "execution_count": 12,
   "id": "49803058-3150-4afe-9c60-660d1158e008",
   "metadata": {},
   "outputs": [],
   "source": [
    "#Refresh our classifier to use the optimal features, and optimal K!\n",
    "classifier = KNeighborsClassifier(optimal_k)\n",
    "classifier.fit(x_train, y_train)\n",
    "predictions = classifier.predict(x_test)"
   ]
  },
  {
   "cell_type": "markdown",
   "id": "dc4c2618-9f9f-4538-844e-193854661c67",
   "metadata": {},
   "source": [
    "## 3.Construct a confusion matrix based on the classifiers performance on the test set and use this to calculate the recall, precision and F1 scores for each class."
   ]
  },
  {
   "cell_type": "code",
   "execution_count": 14,
   "id": "2dffe74b-ea8c-4003-9030-28518cab1690",
   "metadata": {},
   "outputs": [
    {
     "data": {
      "text/plain": [
       "Text(0.5, 1.0, '3-Fold Testing')"
      ]
     },
     "execution_count": 14,
     "metadata": {},
     "output_type": "execute_result"
    },
    {
     "data": {
      "image/png": "[encoded data removed]",
      "text/plain": [
       "<Figure size 640x480 with 2 Axes>"
      ]
     },
     "metadata": {},
     "output_type": "display_data"
    },
    {
     "data": {
      "image/png": "[encoded data removed]",
      "text/plain": [
       "<Figure size 640x480 with 2 Axes>"
      ]
     },
     "metadata": {},
     "output_type": "display_data"
    }
   ],
   "source": [
    "#Create the confusion matrix\n",
    "#Get the unique site names that our site int's correspond to\n",
    "target_list = data['Site'].unique()\n",
    "\n",
    "# Plot the confusion matrices for the training data\n",
    "fig, ax = plt.subplots()\n",
    "disp = ConfusionMatrixDisplay.from_estimator(classifier, x_train, y_train,\n",
    "                                 display_labels=target_list,\n",
    "                                 cmap=plt.cm.Blues,ax=ax)\n",
    "ax.set_title('3-Fold Training')\n",
    "\n",
    "# Plot the confusion matrices for the test data\n",
    "fig, ax = plt.subplots()\n",
    "disp = ConfusionMatrixDisplay.from_estimator(classifier, x_test, y_test,\n",
    "                                 display_labels=target_list,\n",
    "                                 cmap=plt.cm.Blues,ax=ax)\n",
    "ax.set_title('3-Fold Testing')"
   ]
  },
  {
   "cell_type": "code",
   "execution_count": 15,
   "id": "cd50fe36-bfe9-4548-a487-bfb51236d54b",
   "metadata": {},
   "outputs": [
    {
     "name": "stdout",
     "output_type": "stream",
     "text": [
      "Precision Score\n",
      "\n",
      "The precision score tells us the percent of positive predictions, that were correct\n",
      "TJH Precision score   :  57.14285714285714 %\n",
      "DG Precision score    :  80.0 %\n",
      "LEH Precision score   :  100.0 %\n",
      "HD Recall score       :  100.0 %\n",
      "\n",
      "Recall Score\n",
      "\n",
      "The recall score tells us..........\n",
      "TJH Recall score      :  100.0 %\n",
      "DG Recall score       :  80.0 %\n",
      "LEH Recall score      :  60.0 %\n",
      "HD Recall score       :  50.0 %\n",
      "\n",
      "F1 Score\n",
      "\n",
      "The F1 score tells us .............\n",
      "TJH F1 score          :  72.72727272727273 %\n",
      "DG F1 score           :  80.00000000000001 %\n",
      "LEH F1 score          :  74.99999999999999 %\n",
      "HD F1 score           :  66.66666666666666 %\n"
     ]
    }
   ],
   "source": [
    "###########           TJH\n",
    "#Get the true false for each test item being site TJH\n",
    "\n",
    "y_test_TJH = (y_test == 0)\n",
    "#Get the items that are predicted as TJH by the classifier\n",
    "predictions_TJH = (predictions == 0)\n",
    "#We now have an array for TJH test items, and TJH predictions\n",
    "precision_TJH = (precision_score(y_test_TJH, predictions_TJH))*100\n",
    "recall_TJH = (recall_score(y_test_TJH, predictions_TJH))*100\n",
    "f1_TJH = (f1_score(y_test_TJH, predictions_TJH))*100\n",
    "\n",
    "#################      DG\n",
    "\n",
    "#Get the true false for each test item being site DG\n",
    "y_test_DG = (y_test == 1)\n",
    "#Get the items that are predicted as DG by the classifier\n",
    "predictions_DG = (predictions == 1)\n",
    "precision_DG = (precision_score(y_test_DG, predictions_DG))*100\n",
    "recall_DG = (recall_score(y_test_DG, predictions_DG))*100\n",
    "f1_DG = (f1_score(y_test_DG, predictions_DG))*100\n",
    "\n",
    "#################      LEH\n",
    "\n",
    "#Get the true false for each test item being site LEH\n",
    "y_test_LEH = (y_test == 2)\n",
    "#Get the items that are predicted as LEH by the classifier\n",
    "predictions_LEH = (predictions == 2)\n",
    "precision_LEH = (precision_score(y_test_LEH, predictions_LEH))*100\n",
    "recall_LEH = (recall_score(y_test_LEH, predictions_LEH))*100\n",
    "f1_LEH = (f1_score(y_test_LEH, predictions_LEH))*100\n",
    "\n",
    "################       HD\n",
    "\n",
    "#Get the true false for each test item being site HD\n",
    "y_test_HD = (y_test == 3)\n",
    "#Get the items that are predicted as HD by the classifier\n",
    "predictions_HD = (predictions == 3)\n",
    "precision_HD = (precision_score(y_test_HD, predictions_HD))*100\n",
    "recall_HD = (recall_score(y_test_HD, predictions_HD))*100\n",
    "f1_HD = (f1_score(y_test_HD, predictions_HD))*100\n",
    "\n",
    "\n",
    "\n",
    "print(\"Precision Score\\n\")\n",
    "print(\"The precision score tells us the percent of positive predictions, that were correct\")\n",
    "print(\"TJH Precision score   : \", precision_TJH, \"%\")\n",
    "print(\"DG Precision score    : \", precision_DG, \"%\")\n",
    "print(\"LEH Precision score   : \", precision_LEH, \"%\")\n",
    "print(\"HD Recall score       : \", precision_HD, \"%\")\n",
    "\n",
    "print(\"\\nRecall Score\\n\")\n",
    "print(\"The recall score tells us..........\")\n",
    "print(\"TJH Recall score      : \", recall_TJH, \"%\")\n",
    "print(\"DG Recall score       : \", recall_DG, \"%\")\n",
    "print(\"LEH Recall score      : \", recall_LEH, \"%\")\n",
    "print(\"HD Recall score       : \", recall_HD, \"%\")\n",
    "\n",
    "print(\"\\nF1 Score\\n\")\n",
    "print(\"The F1 score tells us .............\")\n",
    "print(\"TJH F1 score          : \", f1_TJH, \"%\")\n",
    "print(\"DG F1 score           : \", f1_DG, \"%\")\n",
    "print(\"LEH F1 score          : \", f1_LEH, \"%\")\n",
    "print(\"HD F1 score           : \", f1_HD, \"%\")"
   ]
  },
  {
   "cell_type": "code",
   "execution_count": 16,
   "id": "048edc36-87c3-4ec6-92c7-e1430e20f47f",
   "metadata": {},
   "outputs": [
    {
     "name": "stdout",
     "output_type": "stream",
     "text": [
      "              precision    recall  f1-score   support\n",
      "\n",
      "         TJH       0.57      1.00      0.73         4\n",
      "          DG       0.80      0.80      0.80         5\n",
      "         LEH       1.00      0.60      0.75         5\n",
      "          HD       1.00      0.50      0.67         2\n",
      "\n",
      "    accuracy                           0.75        16\n",
      "   macro avg       0.84      0.72      0.74        16\n",
      "weighted avg       0.83      0.75      0.75        16\n",
      "\n"
     ]
    }
   ],
   "source": [
    "#I Also came across this auto-reporter which does a full calculation for all these details in a neat little graph!\n",
    "#You can reference the results above to confirm that both outputs are reaching the same conclusions\n",
    "\n",
    "print(classification_report(y_test, predictions, target_names=target_list, output_dict= False))"
   ]
  },
  {
   "cell_type": "code",
   "execution_count": 17,
   "id": "97ca293d-5538-4b51-a71c-4aba75fb5edc",
   "metadata": {},
   "outputs": [],
   "source": [
    "#Construct a ROC curve for each class and calculate the respective AUC values\n",
    "\n",
    "#I chose to use the roc training data as it was a larger sample size\n",
    "#And in theory should still show a representation of the same result\n",
    "y_train_TJH = (y_train == 0)\n",
    "y_train_DG = (y_train == 1)\n",
    "y_train_LEH = (y_train == 2)\n",
    "y_train_HD = (y_train == 3)\n",
    "\n",
    "#Apply the cross val predict so we can get the\n",
    "#precisions, recalls and thresholds\n",
    "y_scores_TJH = cross_val_predict(classifier, x_train, y_train_TJH, cv=3)\n",
    "y_scores_DG = cross_val_predict(classifier, x_train, y_train_DG, cv=3)\n",
    "y_scores_LEH = cross_val_predict(classifier, x_train, y_train_LEH, cv=3)\n",
    "y_scores_HD = cross_val_predict(classifier, x_train, y_train_HD, cv=3)\n",
    "\n",
    "\n",
    "#Function to create the plot and load data\n",
    "def plot_precision_vs_recall(precisions, recalls):\n",
    "    plt.plot(recalls, precisions, \"b-\", linewidth=2)\n",
    "    plt.xlabel(\"Recall\", fontsize=16)\n",
    "    plt.ylabel(\"Precision\", fontsize=16)\n",
    "    plt.axis([0, 1, 0, 1])"
   ]
  },
  {
   "cell_type": "markdown",
   "id": "6f3fd224-16f3-4b3a-aecb-43af055305c0",
   "metadata": {},
   "source": [
    "#### 4. Construct a ROC curve for each class and calculate the respective AUC values"
   ]
  },
  {
   "cell_type": "code",
   "execution_count": 19,
   "id": "182bfbd4",
   "metadata": {},
   "outputs": [
    {
     "data": {
      "image/png": "[encoded data removed]",
      "text/plain": [
       "<Figure size 800x600 with 1 Axes>"
      ]
     },
     "metadata": {},
     "output_type": "display_data"
    }
   ],
   "source": [
    "#TJH Roc Curve plotting\n",
    "from sklearn.metrics import precision_recall_curve\n",
    "precisions_TJH, recalls_TJH, thresholds_TJH = precision_recall_curve(y_train_TJH, y_scores_TJH)\n",
    "\n",
    "plt.figure(figsize=(8, 6))\n",
    "plot_precision_vs_recall(precisions_TJH, recalls_TJH)\n",
    "plt.title(\"TJH Roc Curve\")\n",
    "plt.show()"
   ]
  },
  {
   "cell_type": "code",
   "execution_count": 20,
   "id": "445d645a-9163-4c05-97eb-80b9f1776230",
   "metadata": {},
   "outputs": [
    {
     "name": "stdout",
     "output_type": "stream",
     "text": [
      "The Roc AUC score for the TJH class is:\n"
     ]
    },
    {
     "data": {
      "text/plain": [
       "0.5121816168327796"
      ]
     },
     "execution_count": 20,
     "metadata": {},
     "output_type": "execute_result"
    }
   ],
   "source": [
    "print(\"The Roc AUC score for the TJH class is:\")\n",
    "roc_auc_score(y_train_TJH, y_scores_TJH)"
   ]
  },
  {
   "cell_type": "code",
   "execution_count": 21,
   "id": "c3eddcab",
   "metadata": {},
   "outputs": [
    {
     "data": {
      "image/png": "[encoded data removed]",
      "text/plain": [
       "<Figure size 800x600 with 1 Axes>"
      ]
     },
     "metadata": {},
     "output_type": "display_data"
    }
   ],
   "source": [
    "#Roc Curve\n",
    "precisions_DG, recalls_DG, thresholds_DG = precision_recall_curve(y_train_DG, y_scores_DG)\n",
    "plt.figure(figsize=(8, 6))\n",
    "plot_precision_vs_recall(precisions_DG, recalls_DG)\n",
    "plt.title(\"DG Roc Curve\")\n",
    "plt.show()"
   ]
  },
  {
   "cell_type": "code",
   "execution_count": 22,
   "id": "3d32f186-26f1-42e7-8181-b1aee88327ef",
   "metadata": {},
   "outputs": [
    {
     "name": "stdout",
     "output_type": "stream",
     "text": [
      "The Roc AUC score for the DG class is:\n"
     ]
    },
    {
     "data": {
      "text/plain": [
       "0.4931818181818182"
      ]
     },
     "execution_count": 22,
     "metadata": {},
     "output_type": "execute_result"
    }
   ],
   "source": [
    "print(\"The Roc AUC score for the DG class is:\")\n",
    "roc_auc_score(y_train_DG, y_scores_DG)"
   ]
  },
  {
   "cell_type": "code",
   "execution_count": 23,
   "id": "dfc286be",
   "metadata": {},
   "outputs": [
    {
     "data": {
      "image/png": "[encoded data removed]",
      "text/plain": [
       "<Figure size 800x600 with 1 Axes>"
      ]
     },
     "metadata": {},
     "output_type": "display_data"
    }
   ],
   "source": [
    "#Roc Curve\n",
    "precisions_LEH, recalls_LEH, thresholds_LEH = precision_recall_curve(y_train_LEH, y_scores_LEH)\n",
    "plt.figure(figsize=(8, 6))\n",
    "plot_precision_vs_recall(precisions_LEH, recalls_LEH)\n",
    "plt.title(\"LEH Roc Curve\")\n",
    "\n",
    "plt.show()"
   ]
  },
  {
   "cell_type": "code",
   "execution_count": 24,
   "id": "cff9aed6-569c-4126-ac85-84ebd36c8ab7",
   "metadata": {},
   "outputs": [
    {
     "name": "stdout",
     "output_type": "stream",
     "text": [
      "The Roc AUC score for the LEH class is:\n"
     ]
    },
    {
     "data": {
      "text/plain": [
       "0.48"
      ]
     },
     "execution_count": 24,
     "metadata": {},
     "output_type": "execute_result"
    }
   ],
   "source": [
    "print(\"The Roc AUC score for the LEH class is:\")\n",
    "roc_auc_score(y_train_LEH, y_scores_LEH)"
   ]
  },
  {
   "cell_type": "code",
   "execution_count": 25,
   "id": "b177560a",
   "metadata": {},
   "outputs": [
    {
     "data": {
      "image/png": "[encoded data removed]",
      "text/plain": [
       "<Figure size 800x600 with 1 Axes>"
      ]
     },
     "metadata": {},
     "output_type": "display_data"
    }
   ],
   "source": [
    "#Roc Curve\n",
    "precisions_HD, recalls_HD, thresholds_HD = precision_recall_curve(y_train_HD, y_scores_HD)\n",
    "plt.figure(figsize=(8, 6))\n",
    "plot_precision_vs_recall(precisions_HD, recalls_HD)\n",
    "plt.title(\"HD Roc Curve\")\n",
    "plt.show()"
   ]
  },
  {
   "cell_type": "code",
   "execution_count": 26,
   "id": "05449e7a-fd60-4bad-b6e9-70365c72d769",
   "metadata": {},
   "outputs": [
    {
     "name": "stdout",
     "output_type": "stream",
     "text": [
      "The Roc AUC score for the HD class is:\n"
     ]
    },
    {
     "data": {
      "text/plain": [
       "0.592929292929293"
      ]
     },
     "execution_count": 26,
     "metadata": {},
     "output_type": "execute_result"
    }
   ],
   "source": [
    "print(\"The Roc AUC score for the HD class is:\")\n",
    "roc_auc_score(y_train_HD, y_scores_HD)"
   ]
  },
  {
   "cell_type": "markdown",
   "id": "a8677aa1-780c-41b1-89b6-3fec3db2e092",
   "metadata": {},
   "source": [
    "#### 5. Construct a suitable visualisation that demonstrates the decision boundaries learned by the classifier on the features..."
   ]
  },
  {
   "cell_type": "code",
   "execution_count": 70,
   "id": "892e38ee-3e25-4b8b-8c38-10ee47e3fcae",
   "metadata": {},
   "outputs": [
    {
     "name": "stderr",
     "output_type": "stream",
     "text": [
      "C:\\Users\\reeve\\AppData\\Local\\Temp\\ipykernel_12052\\537367376.py:17: UserWarning: *c* argument looks like a single numeric RGB or RGBA sequence, which should be avoided as value-mapping will have precedence in case its length matches with *x* & *y*.  Please use the *color* keyword-argument or provide a 2D array with a single row if you intend to specify the same RGB or RGBA value for all points.\n",
      "  plt.scatter(xs[ys==j,0],xs[ys==j,1],\n"
     ]
    },
    {
     "data": {
      "image/png": "[encoded data removed]",
      "text/plain": [
       "<Figure size 640x480 with 1 Axes>"
      ]
     },
     "metadata": {},
     "output_type": "display_data"
    }
   ],
   "source": [
    "#Load prediction boundaries and test data into a matplotlib graph\n",
    "xs, ys = x_test, y_test\n",
    "\n",
    "#Create the mesh based on the max and min values that our data uses\n",
    "X1, X2 = np.meshgrid(np.arange(start = xs[:,0].min() - 0.25,stop = xs[:,0].max() + 0.25,step = 0.01),\n",
    "                     np.arange(start = xs[:,1].min() - 0.25,stop = xs[:,1].max() + 0.25,step = 0.01))\n",
    "\n",
    "#Show the boundaries via the respective colour\n",
    "plt.contourf(X1,X2, classifier.predict(np.array([X1.ravel(),X2.ravel()]).T).reshape(X1.shape),\n",
    "            alpha = 0.75, cmap = ListedColormap(['orange','grey','red','blue']))\n",
    "\n",
    "plt.xlim(X1.min(),X1.max())\n",
    "plt.ylim(X2.min(),X2.max())\n",
    "\n",
    "#Load each test data set\n",
    "for i, j in enumerate(np.unique(ys)):\n",
    "    plt.scatter(xs[ys==j,0],xs[ys==j,1],\n",
    "                c=ListedColormap(['orange','grey','red','blue'])(i),label = target_list[j])\n",
    "plt.title('Test Data Against Classification Boundaries')\n",
    "plt.xlabel(\"Feature 1\")\n",
    "plt.ylabel(\"Feature 2\")\n",
    "plt.legend()\n",
    "plt.show()\n",
    "#Done!"
   ]
  },
  {
   "cell_type": "code",
   "execution_count": 76,
   "id": "d0574944-2e8d-455d-b7fa-754693fba84f",
   "metadata": {},
   "outputs": [
    {
     "name": "stdout",
     "output_type": "stream",
     "text": [
      "61    2\n",
      "57    2\n",
      "77    3\n",
      "6     0\n",
      "45    1\n",
      "8     0\n",
      "35    1\n",
      "73    3\n",
      "9     0\n",
      "59    2\n",
      "12    0\n",
      "27    1\n",
      "34    1\n",
      "63    2\n",
      "47    1\n",
      "54    2\n",
      "Name: Site_int, dtype: int64\n"
     ]
    }
   ],
   "source": [
    "print(ys)"
   ]
  },
  {
   "cell_type": "code",
   "execution_count": null,
   "id": "47d63018-1b78-4850-bc43-783ec378641e",
   "metadata": {},
   "outputs": [],
   "source": []
  }
 ],
 "metadata": {
  "kernelspec": {
   "display_name": "Python 3 (ipykernel)",
   "language": "python",
   "name": "python3"
  },
  "language_info": {
   "codemirror_mode": {
    "name": "ipython",
    "version": 3
   },
   "file_extension": ".py",
   "mimetype": "text/x-python",
   "name": "python",
   "nbconvert_exporter": "python",
   "pygments_lexer": "ipython3",
   "version": "3.11.7"
  }
 },
 "nbformat": 4,
 "nbformat_minor": 5
}
