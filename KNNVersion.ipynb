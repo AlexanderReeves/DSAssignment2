{
 "cells": [
  {
   "cell_type": "code",
   "execution_count": 24,
   "id": "24d80e38",
   "metadata": {},
   "outputs": [],
   "source": [
    "# Import all of the modules\n",
    "\n",
    "import numpy as np\n",
    "import matplotlib.pyplot as plt\n",
    "from matplotlib.colors import ListedColormap\n",
    "from sklearn import neighbors, datasets\n",
    "from sklearn.model_selection import cross_val_predict\n",
    "from sklearn.metrics import confusion_matrix\n",
    "from sklearn.metrics import ConfusionMatrixDisplay \n",
    "from sklearn.model_selection import train_test_split\n",
    "from sklearn.metrics import recall_score\n",
    "from sklearn.metrics import precision_score\n",
    "from sklearn.metrics import f1_score\n",
    "from sklearn.metrics import roc_curve, auc\n",
    "from sklearn.preprocessing import label_binarize\n",
    "import pandas as pd #Pandas to load and handle the dataset\n"
   ]
  },
  {
   "cell_type": "code",
   "execution_count": 25,
   "id": "7ff49f43",
   "metadata": {},
   "outputs": [],
   "source": [
    "#Load the data set from a csv using a convenient re-usable function\n",
    "def load_dataset(Data_loc):\n",
    "    return pd.read_csv(Data_loc)\n",
    "\n",
    "#Load the data via the function\n",
    "plants_data = load_dataset('./data/Plants_Dataset.csv')\n",
    "\n",
    "#Alternatively, for a single data sets, we could load with this line\n",
    "#weather_data = pd.read_csv(\"./data/Plants_Dataset.csv\")\n",
    "\n",
    "#Check the data is loaded correctly\n",
    "plants_data.head()\n",
    "#print(plants_data.target_names)\n",
    "#Convert to numpy data as that will work with the functions/libraries\n",
    "plants_data = plants_data.to_numpy()\n",
    "target_names = plants_data[:,0]"
   ]
  },
  {
   "cell_type": "code",
   "execution_count": 26,
   "id": "f9eca4e7",
   "metadata": {},
   "outputs": [],
   "source": [
    "#Train, Test, Split the data\n",
    "\n",
    "#Lowercase y here is denoting a single columns of data, while Capital X has multiple data lines\n",
    "#Our X data is every row, but only columns starting after col1\n",
    "X = plants_data[:,1:]\n",
    "#Our y data is a single column in array location 0\n",
    "y = plants_data[:,0]\n",
    "nclasses = 4\n",
    "\n",
    "# Split the data into a training set and a test set\n",
    "X_train, X_test, y_train, y_test = train_test_split(X, y)"
   ]
  },
  {
   "cell_type": "code",
   "execution_count": 29,
   "id": "30b8f835",
   "metadata": {},
   "outputs": [
    {
     "name": "stdout",
     "output_type": "stream",
     "text": [
      "CV Train: [0.9047619  0.         0.         0.57894737]\n",
      "CV Train: [0.61290323 0.         0.         0.37931034]\n",
      "CV Train: [0.73076923 0.         0.         0.45833333]\n"
     ]
    },
    {
     "name": "stderr",
     "output_type": "stream",
     "text": [
      "C:\\Users\\ioemaster\\anaconda3\\lib\\site-packages\\sklearn\\metrics\\_classification.py:1318: UndefinedMetricWarning: Precision is ill-defined and being set to 0.0 in labels with no predicted samples. Use `zero_division` parameter to control this behavior.\n",
      "  _warn_prf(average, modifier, msg_start, len(result))\n"
     ]
    },
    {
     "ename": "NameError",
     "evalue": "name 'iris' is not defined",
     "output_type": "error",
     "traceback": [
      "\u001b[1;31m---------------------------------------------------------------------------\u001b[0m",
      "\u001b[1;31mNameError\u001b[0m                                 Traceback (most recent call last)",
      "Input \u001b[1;32mIn [29]\u001b[0m, in \u001b[0;36m<cell line: 37>\u001b[1;34m()\u001b[0m\n\u001b[0;32m     34\u001b[0m ax\u001b[38;5;241m.\u001b[39mset_title(\u001b[38;5;124m'\u001b[39m\u001b[38;5;124m3-Fold Training\u001b[39m\u001b[38;5;124m'\u001b[39m)\n\u001b[0;32m     36\u001b[0m fig, ax \u001b[38;5;241m=\u001b[39m plt\u001b[38;5;241m.\u001b[39msubplots()\n\u001b[0;32m     37\u001b[0m disp \u001b[38;5;241m=\u001b[39m ConfusionMatrixDisplay\u001b[38;5;241m.\u001b[39mfrom_estimator(clf, X_test, y_test,\n\u001b[1;32m---> 38\u001b[0m                                  display_labels\u001b[38;5;241m=\u001b[39m\u001b[43miris\u001b[49m\u001b[38;5;241m.\u001b[39mtarget_names,\n\u001b[0;32m     39\u001b[0m                                  cmap\u001b[38;5;241m=\u001b[39mplt\u001b[38;5;241m.\u001b[39mcm\u001b[38;5;241m.\u001b[39mBlues,ax\u001b[38;5;241m=\u001b[39max)\n\u001b[0;32m     40\u001b[0m ax\u001b[38;5;241m.\u001b[39mset_title(\u001b[38;5;124m'\u001b[39m\u001b[38;5;124mTesting\u001b[39m\u001b[38;5;124m'\u001b[39m)\n",
      "\u001b[1;31mNameError\u001b[0m: name 'iris' is not defined"
     ]
    },
    {
     "data": {
      "image/png": "[encoded data removed]",
      "text/plain": [
       "<Figure size 432x288 with 2 Axes>"
      ]
     },
     "metadata": {
      "needs_background": "light"
     },
     "output_type": "display_data"
    },
    {
     "data": {
      "image/png": "[encoded data removed]",
      "text/plain": [
       "<Figure size 432x288 with 1 Axes>"
      ]
     },
     "metadata": {
      "needs_background": "light"
     },
     "output_type": "display_data"
    }
   ],
   "source": [
    "h = .02  # step size in the mesh\n",
    "\n",
    "# Create color maps\n",
    "cmap_light = ListedColormap(['orange', 'cyan', 'cornflowerblue', '#0ee844'])\n",
    "cmap_bold = ListedColormap(['darkorange', 'c', 'darkblue', '#0db537'])\n",
    "colors = ['darkorange', 'c', 'darkblue', '#05571a']\n",
    "\n",
    "# Set the number neightbours to use in the classifier\n",
    "n_neighbors = 30\n",
    "\n",
    "\n",
    "# we create an instance of Neighbours Classifier and fit the data.\n",
    "clf = neighbors.KNeighborsClassifier(n_neighbors, weights='uniform')\n",
    "clf.fit(X_train, y_train)\n",
    "\n",
    "\n",
    "\n",
    "# Return the predictions for the 3-Fold crossvalidation\n",
    "y_predicted = cross_val_predict(clf, X_train,y_train, cv=3)\n",
    "# Return the predictions for the test set\n",
    "y_test_predicted = clf.predict(X_test)\n",
    "# Construct the confusion matricies\n",
    "conf_mat_train = confusion_matrix(y_train, y_predicted)\n",
    "conf_mat_test = confusion_matrix(y_test, y_test_predicted)\n",
    "\n",
    "print(\"CV Train:\", recall_score(y_train,y_predicted,average=None))\n",
    "print(\"CV Train:\",precision_score(y_train,y_predicted,average=None))\n",
    "print(\"CV Train:\",f1_score(y_train,y_predicted,average=None))\n",
    "\n",
    "# Plot the confusion matrices\n",
    "fig, ax = plt.subplots()\n",
    "disp = ConfusionMatrixDisplay.from_estimator(clf, X_train, y_train,\n",
    "                                 cmap=plt.cm.Blues,ax=ax)\n",
    "ax.set_title('3-Fold Training')\n",
    "\n",
    "fig, ax = plt.subplots()\n",
    "disp = ConfusionMatrixDisplay.from_estimator(clf, X_test, y_test,\n",
    "                                 display_labels=iris.target_names,\n",
    "                                 cmap=plt.cm.Blues,ax=ax)\n",
    "ax.set_title('Testing')\n"
   ]
  },
  {
   "cell_type": "code",
   "execution_count": null,
   "id": "c5037716",
   "metadata": {},
   "outputs": [],
   "source": []
  }
 ],
 "metadata": {
  "kernelspec": {
   "display_name": "Python 3 (ipykernel)",
   "language": "python",
   "name": "python3"
  },
  "language_info": {
   "codemirror_mode": {
    "name": "ipython",
    "version": 3
   },
   "file_extension": ".py",
   "mimetype": "text/x-python",
   "name": "python",
   "nbconvert_exporter": "python",
   "pygments_lexer": "ipython3",
   "version": "3.11.7"
  }
 },
 "nbformat": 4,
 "nbformat_minor": 5
}
