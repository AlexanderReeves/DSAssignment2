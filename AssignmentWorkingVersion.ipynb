{
 "cells": [
  {
   "cell_type": "code",
   "execution_count": 1,
   "id": "0fbec1e2-450b-4ecb-a443-47e1bd34dfe3",
   "metadata": {},
   "outputs": [],
   "source": [
    "import pandas as pd\n",
    "import numpy as np\n",
    "from sklearn.neighbors import KNeighborsClassifier\n",
    "from sklearn.model_selection import train_test_split\n",
    "from sklearn.metrics import confusion_matrix\n",
    "from sklearn.metrics import accuracy_score\n",
    "from sklearn import preprocessing\n",
    "from sklearn.model_selection import cross_val_score\n",
    "\n",
    "def check_NaN(dataframe):\n",
    "    print(\"Total NaN:\", dataframe.isnull().values.sum())\n",
    "    print(\"NaN by column:\\n\",dataframe.isnull().sum())\n",
    "    return"
   ]
  },
  {
   "cell_type": "code",
   "execution_count": 2,
   "id": "286ec219-16a9-491e-9e3d-f5cecd0a532e",
   "metadata": {},
   "outputs": [
    {
     "data": {
      "text/html": [
       "<div>\n",
       "<style scoped>\n",
       "    .dataframe tbody tr th:only-of-type {\n",
       "        vertical-align: middle;\n",
       "    }\n",
       "\n",
       "    .dataframe tbody tr th {\n",
       "        vertical-align: top;\n",
       "    }\n",
       "\n",
       "    .dataframe thead th {\n",
       "        text-align: right;\n",
       "    }\n",
       "</style>\n",
       "<table border=\"1\" class=\"dataframe\">\n",
       "  <thead>\n",
       "    <tr style=\"text-align: right;\">\n",
       "      <th></th>\n",
       "      <th>Site</th>\n",
       "      <th>height</th>\n",
       "      <th>mouth_diam</th>\n",
       "      <th>tube_diam</th>\n",
       "      <th>keel_diam</th>\n",
       "      <th>wingspread</th>\n",
       "      <th>hoodarea</th>\n",
       "      <th>wingarea</th>\n",
       "      <th>tubearea</th>\n",
       "      <th>tubemass_g</th>\n",
       "      <th>wingmass_g</th>\n",
       "      <th>Ca_ppm</th>\n",
       "      <th>P_ppm</th>\n",
       "      <th>K_ppm</th>\n",
       "      <th>Mg_ppm</th>\n",
       "      <th>C_pct</th>\n",
       "      <th>H_pct</th>\n",
       "      <th>N_pct</th>\n",
       "    </tr>\n",
       "  </thead>\n",
       "  <tbody>\n",
       "    <tr>\n",
       "      <th>0</th>\n",
       "      <td>TJH</td>\n",
       "      <td>654</td>\n",
       "      <td>38.4</td>\n",
       "      <td>16.6</td>\n",
       "      <td>6.4</td>\n",
       "      <td>55</td>\n",
       "      <td>63.77</td>\n",
       "      <td>33.65</td>\n",
       "      <td>87.15</td>\n",
       "      <td>3.54</td>\n",
       "      <td>0.29</td>\n",
       "      <td>717.90</td>\n",
       "      <td>997.12</td>\n",
       "      <td>10699.50</td>\n",
       "      <td>1983.40</td>\n",
       "      <td>49.43</td>\n",
       "      <td>5.50</td>\n",
       "      <td>0.93</td>\n",
       "    </tr>\n",
       "    <tr>\n",
       "      <th>1</th>\n",
       "      <td>TJH</td>\n",
       "      <td>413</td>\n",
       "      <td>22.2</td>\n",
       "      <td>17.2</td>\n",
       "      <td>5.9</td>\n",
       "      <td>60</td>\n",
       "      <td>21.10</td>\n",
       "      <td>7.36</td>\n",
       "      <td>44.78</td>\n",
       "      <td>1.48</td>\n",
       "      <td>0.06</td>\n",
       "      <td>392.74</td>\n",
       "      <td>876.99</td>\n",
       "      <td>9576.49</td>\n",
       "      <td>1540.73</td>\n",
       "      <td>50.24</td>\n",
       "      <td>5.63</td>\n",
       "      <td>0.94</td>\n",
       "    </tr>\n",
       "    <tr>\n",
       "      <th>2</th>\n",
       "      <td>TJH</td>\n",
       "      <td>610</td>\n",
       "      <td>31.2</td>\n",
       "      <td>19.9</td>\n",
       "      <td>6.7</td>\n",
       "      <td>78</td>\n",
       "      <td>28.47</td>\n",
       "      <td>15.75</td>\n",
       "      <td>56.64</td>\n",
       "      <td>2.20</td>\n",
       "      <td>0.16</td>\n",
       "      <td>402.45</td>\n",
       "      <td>1287.62</td>\n",
       "      <td>11738.73</td>\n",
       "      <td>1514.21</td>\n",
       "      <td>50.77</td>\n",
       "      <td>5.58</td>\n",
       "      <td>1.08</td>\n",
       "    </tr>\n",
       "    <tr>\n",
       "      <th>3</th>\n",
       "      <td>TJH</td>\n",
       "      <td>546</td>\n",
       "      <td>34.4</td>\n",
       "      <td>20.8</td>\n",
       "      <td>6.3</td>\n",
       "      <td>95</td>\n",
       "      <td>48.82</td>\n",
       "      <td>30.47</td>\n",
       "      <td>76.31</td>\n",
       "      <td>2.95</td>\n",
       "      <td>0.24</td>\n",
       "      <td>497.16</td>\n",
       "      <td>662.55</td>\n",
       "      <td>11173.37</td>\n",
       "      <td>1399.24</td>\n",
       "      <td>50.27</td>\n",
       "      <td>5.67</td>\n",
       "      <td>0.88</td>\n",
       "    </tr>\n",
       "    <tr>\n",
       "      <th>4</th>\n",
       "      <td>TJH</td>\n",
       "      <td>665</td>\n",
       "      <td>30.5</td>\n",
       "      <td>20.4</td>\n",
       "      <td>6.6</td>\n",
       "      <td>30</td>\n",
       "      <td>29.48</td>\n",
       "      <td>11.33</td>\n",
       "      <td>100.22</td>\n",
       "      <td>3.36</td>\n",
       "      <td>0.08</td>\n",
       "      <td>504.48</td>\n",
       "      <td>1115.53</td>\n",
       "      <td>7017.39</td>\n",
       "      <td>1964.15</td>\n",
       "      <td>50.20</td>\n",
       "      <td>5.56</td>\n",
       "      <td>0.98</td>\n",
       "    </tr>\n",
       "  </tbody>\n",
       "</table>\n",
       "</div>"
      ],
      "text/plain": [
       "  Site  height  mouth_diam  tube_diam  keel_diam  wingspread  hoodarea  \\\n",
       "0  TJH     654        38.4       16.6        6.4          55     63.77   \n",
       "1  TJH     413        22.2       17.2        5.9          60     21.10   \n",
       "2  TJH     610        31.2       19.9        6.7          78     28.47   \n",
       "3  TJH     546        34.4       20.8        6.3          95     48.82   \n",
       "4  TJH     665        30.5       20.4        6.6          30     29.48   \n",
       "\n",
       "   wingarea  tubearea  tubemass_g  wingmass_g  Ca_ppm    P_ppm     K_ppm  \\\n",
       "0     33.65     87.15        3.54        0.29  717.90   997.12  10699.50   \n",
       "1      7.36     44.78        1.48        0.06  392.74   876.99   9576.49   \n",
       "2     15.75     56.64        2.20        0.16  402.45  1287.62  11738.73   \n",
       "3     30.47     76.31        2.95        0.24  497.16   662.55  11173.37   \n",
       "4     11.33    100.22        3.36        0.08  504.48  1115.53   7017.39   \n",
       "\n",
       "    Mg_ppm  C_pct  H_pct  N_pct  \n",
       "0  1983.40  49.43   5.50   0.93  \n",
       "1  1540.73  50.24   5.63   0.94  \n",
       "2  1514.21  50.77   5.58   1.08  \n",
       "3  1399.24  50.27   5.67   0.88  \n",
       "4  1964.15  50.20   5.56   0.98  "
      ]
     },
     "execution_count": 2,
     "metadata": {},
     "output_type": "execute_result"
    }
   ],
   "source": [
    "data = pd.read_csv(\"./data/Plants_Dataset.csv\")\n",
    "data.head()\n",
    "#data.describe()"
   ]
  },
  {
   "cell_type": "code",
   "execution_count": 3,
   "id": "58124854-6281-4b6a-bd0e-239cc5da5004",
   "metadata": {},
   "outputs": [
    {
     "name": "stdout",
     "output_type": "stream",
     "text": [
      "Total NaN: 0\n",
      "NaN by column:\n",
      " Site          0\n",
      "height        0\n",
      "mouth_diam    0\n",
      "tube_diam     0\n",
      "keel_diam     0\n",
      "wingspread    0\n",
      "hoodarea      0\n",
      "wingarea      0\n",
      "tubearea      0\n",
      "tubemass_g    0\n",
      "wingmass_g    0\n",
      "Ca_ppm        0\n",
      "P_ppm         0\n",
      "K_ppm         0\n",
      "Mg_ppm        0\n",
      "C_pct         0\n",
      "H_pct         0\n",
      "N_pct         0\n",
      "dtype: int64\n"
     ]
    }
   ],
   "source": [
    "def check_NaN(dataframe):\n",
    "    print(\"Total NaN:\", dataframe.isnull().values.sum())\n",
    "    print(\"NaN by column:\\n\",dataframe.isnull().sum())\n",
    "    return\n",
    "    \n",
    "check_NaN(data)"
   ]
  },
  {
   "cell_type": "code",
   "execution_count": 4,
   "id": "20faf346-ec68-485c-b87d-2bf470fbdd8f",
   "metadata": {},
   "outputs": [
    {
     "name": "stderr",
     "output_type": "stream",
     "text": [
      "C:\\Users\\ioemaster\\AppData\\Local\\Temp\\ipykernel_2852\\107283896.py:2: UserWarning: Pandas doesn't allow columns to be created via a new attribute name - see https://pandas.pydata.org/pandas-docs/stable/indexing.html#attribute-access\n",
      "  data.target = data.Site\n",
      "C:\\Users\\ioemaster\\AppData\\Local\\Temp\\ipykernel_2852\\107283896.py:16: UserWarning: Pandas doesn't allow columns to be created via a new attribute name - see https://pandas.pydata.org/pandas-docs/stable/indexing.html#attribute-access\n",
      "  data.features = data[[columns[f1],columns[f2]]]\n"
     ]
    },
    {
     "name": "stdout",
     "output_type": "stream",
     "text": [
      "RUN\n",
      "Optimal k with cross-validation:  1\n",
      "Optimal k with cross-validation:  0\n",
      "Optimal k with cross-validation:  0\n",
      "Optimal k with cross-validation:  1\n",
      "Optimal k with cross-validation:  0\n",
      "Optimal k with cross-validation:  0\n",
      "Optimal k with cross-validation:  1\n",
      "Optimal k with cross-validation:  1\n",
      "Optimal k with cross-validation:  1\n",
      "Optimal k with cross-validation:  1\n",
      "Optimal k with cross-validation:  1\n",
      "Optimal k with cross-validation:  1\n",
      "Optimal k with cross-validation:  0\n",
      "Optimal k with cross-validation:  1\n",
      "Optimal k with cross-validation:  0\n",
      "Optimal k with cross-validation:  1\n",
      "Optimal k with cross-validation:  1\n",
      "Optimal k with cross-validation:  1\n",
      "Optimal k with cross-validation:  0\n",
      "Optimal k with cross-validation:  1\n",
      "Optimal k with cross-validation:  1\n",
      "Optimal k with cross-validation:  1\n",
      "Optimal k with cross-validation:  1\n",
      "Optimal k with cross-validation:  1\n",
      "Optimal k with cross-validation:  1\n",
      "Optimal k with cross-validation:  1\n",
      "Optimal k with cross-validation:  1\n",
      "Optimal k with cross-validation:  1\n",
      "Optimal k with cross-validation:  1\n",
      "Optimal k with cross-validation:  1\n",
      "Optimal k with cross-validation:  0\n",
      "Optimal k with cross-validation:  1\n",
      "Optimal k with cross-validation:  0\n",
      "Optimal k with cross-validation:  1\n",
      "Optimal k with cross-validation:  1\n",
      "Optimal k with cross-validation:  1\n",
      "Optimal k with cross-validation:  1\n",
      "Optimal k with cross-validation:  0\n",
      "Optimal k with cross-validation:  0\n",
      "Optimal k with cross-validation:  1\n",
      "Optimal k with cross-validation:  1\n",
      "Optimal k with cross-validation:  0\n",
      "Optimal k with cross-validation:  1\n",
      "Optimal k with cross-validation:  1\n",
      "Optimal k with cross-validation:  1\n",
      "Optimal k with cross-validation:  1\n",
      "Optimal k with cross-validation:  0\n",
      "Optimal k with cross-validation:  1\n",
      "Optimal k with cross-validation:  0\n",
      "Optimal k with cross-validation:  0\n",
      "Optimal k with cross-validation:  1\n",
      "Optimal k with cross-validation:  0\n",
      "Optimal k with cross-validation:  0\n",
      "Optimal k with cross-validation:  0\n",
      "Optimal k with cross-validation:  0\n",
      "Optimal k with cross-validation:  1\n",
      "Optimal k with cross-validation:  1\n",
      "Optimal k with cross-validation:  0\n",
      "Optimal k with cross-validation:  1\n",
      "Optimal k with cross-validation:  0\n",
      "Optimal k with cross-validation:  1\n",
      "Optimal k with cross-validation:  0\n",
      "Optimal k with cross-validation:  0\n",
      "Optimal k with cross-validation:  0\n",
      "Optimal k with cross-validation:  1\n",
      "Optimal k with cross-validation:  1\n",
      "Optimal k with cross-validation:  1\n",
      "Optimal k with cross-validation:  0\n",
      "Optimal k with cross-validation:  1\n",
      "Optimal k with cross-validation:  1\n",
      "Optimal k with cross-validation:  1\n",
      "Optimal k with cross-validation:  0\n",
      "Optimal k with cross-validation:  1\n",
      "Optimal k with cross-validation:  1\n",
      "Optimal k with cross-validation:  1\n",
      "Optimal k with cross-validation:  0\n",
      "Optimal k with cross-validation:  0\n",
      "Optimal k with cross-validation:  1\n",
      "Optimal k with cross-validation:  0\n",
      "Optimal k with cross-validation:  1\n",
      "Optimal k with cross-validation:  0\n",
      "Optimal k with cross-validation:  1\n",
      "Optimal k with cross-validation:  1\n",
      "Optimal k with cross-validation:  0\n",
      "Optimal k with cross-validation:  1\n",
      "Optimal k with cross-validation:  1\n",
      "Optimal k with cross-validation:  1\n",
      "Optimal k with cross-validation:  0\n",
      "Optimal k with cross-validation:  1\n",
      "Optimal k with cross-validation:  1\n",
      "Optimal k with cross-validation:  1\n",
      "Optimal k with cross-validation:  1\n",
      "Optimal k with cross-validation:  1\n",
      "Optimal k with cross-validation:  1\n",
      "Optimal k with cross-validation:  0\n",
      "Optimal k with cross-validation:  0\n",
      "Optimal k with cross-validation:  0\n",
      "Optimal k with cross-validation:  1\n",
      "Optimal k with cross-validation:  0\n",
      "Optimal k with cross-validation:  0\n",
      "Optimal k with cross-validation:  1\n",
      "Optimal k with cross-validation:  1\n",
      "Optimal k with cross-validation:  1\n",
      "Optimal k with cross-validation:  0\n",
      "Optimal k with cross-validation:  1\n",
      "Optimal k with cross-validation:  0\n",
      "Optimal k with cross-validation:  1\n",
      "Optimal k with cross-validation:  1\n",
      "Optimal k with cross-validation:  0\n",
      "Optimal k with cross-validation:  1\n",
      "Optimal k with cross-validation:  0\n",
      "Optimal k with cross-validation:  0\n",
      "Optimal k with cross-validation:  1\n",
      "Optimal k with cross-validation:  1\n",
      "Optimal k with cross-validation:  0\n",
      "Optimal k with cross-validation:  0\n",
      "Optimal k with cross-validation:  1\n",
      "Optimal k with cross-validation:  1\n",
      "Optimal k with cross-validation:  1\n",
      "Optimal k with cross-validation:  1\n",
      "Optimal k with cross-validation:  0\n",
      "Optimal k with cross-validation:  0\n",
      "Optimal k with cross-validation:  1\n",
      "Optimal k with cross-validation:  1\n",
      "Optimal k with cross-validation:  1\n",
      "Optimal k with cross-validation:  1\n",
      "Optimal k with cross-validation:  0\n",
      "Optimal k with cross-validation:  1\n",
      "Optimal k with cross-validation:  1\n",
      "Optimal k with cross-validation:  1\n",
      "Optimal k with cross-validation:  1\n",
      "Optimal k with cross-validation:  1\n",
      "Optimal k with cross-validation:  0\n",
      "Optimal k with cross-validation:  0\n",
      "Optimal k with cross-validation:  0\n",
      "Optimal k with cross-validation:  1\n",
      "Optimal k with cross-validation:  0\n",
      "Optimal k with cross-validation:  1\n",
      "Optimal k with cross-validation:  1\n",
      "Optimal k with cross-validation:  1\n",
      "Optimal k with cross-validation:  1\n",
      "Optimal k with cross-validation:  1\n",
      "Optimal k with cross-validation:  0\n",
      "Optimal k with cross-validation:  0\n",
      "Optimal k with cross-validation:  1\n",
      "Optimal k with cross-validation:  1\n",
      "Optimal k with cross-validation:  1\n",
      "Optimal k with cross-validation:  1\n",
      "Optimal k with cross-validation:  1\n",
      "Optimal k with cross-validation:  1\n",
      "Optimal k with cross-validation:  1\n",
      "Optimal k with cross-validation:  0\n",
      "Optimal k with cross-validation:  0\n",
      "Optimal k with cross-validation:  0\n",
      "Optimal k with cross-validation:  1\n",
      "Optimal k with cross-validation:  1\n",
      "Optimal k with cross-validation:  1\n",
      "Optimal k with cross-validation:  1\n",
      "Optimal k with cross-validation:  0\n",
      "Optimal k with cross-validation:  1\n",
      "Optimal k with cross-validation:  1\n",
      "Optimal k with cross-validation:  1\n",
      "Optimal k with cross-validation:  0\n",
      "Optimal k with cross-validation:  0\n",
      "Optimal k with cross-validation:  1\n",
      "Optimal k with cross-validation:  1\n",
      "Optimal k with cross-validation:  0\n",
      "Optimal k with cross-validation:  0\n",
      "Optimal k with cross-validation:  1\n",
      "Optimal k with cross-validation:  0\n",
      "Optimal k with cross-validation:  0\n",
      "Optimal k with cross-validation:  1\n",
      "Optimal k with cross-validation:  1\n",
      "Optimal k with cross-validation:  1\n",
      "Optimal k with cross-validation:  0\n",
      "Optimal k with cross-validation:  0\n",
      "Optimal k with cross-validation:  1\n",
      "Optimal k with cross-validation:  1\n",
      "Optimal k with cross-validation:  1\n",
      "Optimal k with cross-validation:  1\n",
      "Optimal k with cross-validation:  1\n",
      "Optimal k with cross-validation:  1\n",
      "Optimal k with cross-validation:  1\n",
      "Optimal k with cross-validation:  1\n",
      "Optimal k with cross-validation:  1\n",
      "Optimal k with cross-validation:  1\n",
      "Optimal k with cross-validation:  0\n",
      "Optimal k with cross-validation:  1\n",
      "Optimal k with cross-validation:  0\n",
      "Optimal k with cross-validation:  0\n",
      "Optimal k with cross-validation:  0\n",
      "Optimal k with cross-validation:  1\n",
      "Optimal k with cross-validation:  1\n",
      "Optimal k with cross-validation:  1\n",
      "Optimal k with cross-validation:  1\n",
      "Optimal k with cross-validation:  0\n",
      "Optimal k with cross-validation:  0\n",
      "Optimal k with cross-validation:  1\n",
      "Optimal k with cross-validation:  1\n",
      "Optimal k with cross-validation:  1\n",
      "Optimal k with cross-validation:  1\n",
      "Optimal k with cross-validation:  1\n",
      "Optimal k with cross-validation:  1\n",
      "Optimal k with cross-validation:  1\n",
      "Optimal k with cross-validation:  1\n",
      "Optimal k with cross-validation:  1\n",
      "Optimal k with cross-validation:  0\n",
      "Optimal k with cross-validation:  1\n",
      "Optimal k with cross-validation:  0\n",
      "Optimal k with cross-validation:  1\n",
      "Optimal k with cross-validation:  1\n",
      "Optimal k with cross-validation:  1\n",
      "Optimal k with cross-validation:  0\n",
      "Optimal k with cross-validation:  1\n",
      "Optimal k with cross-validation:  0\n",
      "Optimal k with cross-validation:  1\n",
      "Optimal k with cross-validation:  1\n",
      "Optimal k with cross-validation:  1\n",
      "Optimal k with cross-validation:  1\n",
      "Optimal k with cross-validation:  0\n",
      "Optimal k with cross-validation:  1\n",
      "Optimal k with cross-validation:  0\n",
      "Optimal k with cross-validation:  0\n",
      "Optimal k with cross-validation:  1\n",
      "Optimal k with cross-validation:  1\n",
      "Optimal k with cross-validation:  1\n",
      "Optimal k with cross-validation:  1\n",
      "Optimal k with cross-validation:  0\n",
      "Optimal k with cross-validation:  1\n"
     ]
    },
    {
     "name": "stdout",
     "output_type": "stream",
     "text": [
      "Optimal k with cross-validation:  1\n",
      "Optimal k with cross-validation:  1\n",
      "Optimal k with cross-validation:  1\n",
      "Optimal k with cross-validation:  1\n",
      "Optimal k with cross-validation:  1\n",
      "Optimal k with cross-validation:  1\n",
      "Optimal k with cross-validation:  0\n",
      "Optimal k with cross-validation:  1\n",
      "Optimal k with cross-validation:  0\n",
      "Optimal k with cross-validation:  0\n",
      "Optimal k with cross-validation:  1\n",
      "Optimal k with cross-validation:  0\n",
      "Optimal k with cross-validation:  0\n",
      "Optimal k with cross-validation:  0\n",
      "Optimal k with cross-validation:  0\n",
      "Optimal k with cross-validation:  0\n",
      "Optimal k with cross-validation:  0\n",
      "Optimal k with cross-validation:  0\n",
      "Optimal k with cross-validation:  0\n",
      "Optimal k with cross-validation:  0\n",
      "Optimal k with cross-validation:  0\n",
      "Optimal k with cross-validation:  0\n",
      "Optimal k with cross-validation:  0\n",
      "Optimal k with cross-validation:  0\n",
      "Optimal k with cross-validation:  0\n",
      "Optimal k with cross-validation:  0\n",
      "Optimal k with cross-validation:  0\n",
      "Optimal k with cross-validation:  1\n",
      "Optimal k with cross-validation:  1\n",
      "Optimal k with cross-validation:  1\n",
      "Optimal k with cross-validation:  0\n",
      "Optimal k with cross-validation:  1\n",
      "Optimal k with cross-validation:  0\n",
      "Optimal k with cross-validation:  0\n",
      "Optimal k with cross-validation:  1\n",
      "Optimal k with cross-validation:  0\n",
      "Optimal k with cross-validation:  1\n",
      "Optimal k with cross-validation:  0\n",
      "Optimal k with cross-validation:  1\n",
      "Optimal k with cross-validation:  1\n",
      "Optimal k with cross-validation:  1\n",
      "Optimal k with cross-validation:  1\n",
      "Optimal k with cross-validation:  0\n",
      "Best accuracy:  75.0 . Feature A:  10 . Feature 2:  12 .\n"
     ]
    }
   ],
   "source": [
    "#Determining the best data points to use... THIS WHOLE SECTION MIGHT BREAK ALL THE WORKING CODE PROCEED WITH CAUTION\n",
    "data.target = data.Site\n",
    "columns = data.columns\n",
    "best_accuracy = 0\n",
    "best_f1 = 0\n",
    "best_f2 = 0\n",
    "\n",
    "print(\"RUN\")\n",
    "#Loop through all features\n",
    "for f1 in range(1,len(columns)):\n",
    "    for f2 in range(1,len(columns)):\n",
    "        if f1 == f2:\n",
    "            continue\n",
    "        #print(\"f1: \", f1, \". f2: \" , f2)\n",
    "        #Set the columns from our data to use\n",
    "        data.features = data[[columns[f1],columns[f2]]]\n",
    "        #Process the data to the right format for the KNN classifier\n",
    "        data.features = preprocessing.MinMaxScaler().fit_transform(data.features)\n",
    "        #Train\n",
    "        x_train, x_test, y_train, y_test = train_test_split(data.features,data.target, test_size=0.2,random_state=42)\n",
    "        #Find optimal K value?\n",
    "        k_scores = []\n",
    "        #The K can go all the way to 73, though this increases the processing time to a ridiculous amount\n",
    "        #Instead I opted to use all data with n_neighbours of a static 5\n",
    "\n",
    "        ##############################\n",
    "        ############################\n",
    "        ############################\n",
    "        ###########################\n",
    "        #REMEMBER TO BUMP THIS BACK TO 5 BEFORE SUBMITTING\n",
    "        for k in range(1,3):\n",
    "            knn = KNeighborsClassifier(n_neighbors=k)\n",
    "            scores = cross_val_score(knn,data.features,data.target,cv=10,scoring='accuracy')\n",
    "            k_scores.append(scores.mean())\n",
    "            \n",
    "        optimal_k = np.argmax(k_scores)  \n",
    "        print(\"Optimal k with cross-validation: \", np.argmax(k_scores))\n",
    "        if optimal_k == 0:\n",
    "            continue\n",
    "\n",
    "        #Run the classifier with optimal K\n",
    "        classifier = KNeighborsClassifier(optimal_k)\n",
    "        classifier.fit(x_train, y_train)\n",
    "        predictions = classifier.predict(x_test)\n",
    "\n",
    "        #Display the accuracy found\n",
    "        #accuracy = str(accuracy_score(y_test, predictions)*100)+\"%\"\n",
    "        accuracy = accuracy_score(y_test, predictions)*100\n",
    "        #print(\"Accuracy:\", accuracy)\n",
    "        if accuracy > best_accuracy:\n",
    "            best_accuracy = accuracy\n",
    "            best_f1 = f1\n",
    "            best_f2 = f2\n",
    "\n",
    "print(\"Best accuracy: \", best_accuracy, \". Feature A: \", best_f1, \". Feature 2: \", best_f2, \".\")"
   ]
  },
  {
   "cell_type": "code",
   "execution_count": 5,
   "id": "5b44cbde-b571-4786-966c-f0f7246bf263",
   "metadata": {},
   "outputs": [],
   "source": [
    "#Get the column titles as a text array\n",
    "column_titles = list(data.columns.values)"
   ]
  },
  {
   "cell_type": "code",
   "execution_count": 6,
   "id": "ea25b753-2aab-4c38-99eb-355f916e827a",
   "metadata": {},
   "outputs": [
    {
     "data": {
      "text/html": [
       "<div>\n",
       "<style scoped>\n",
       "    .dataframe tbody tr th:only-of-type {\n",
       "        vertical-align: middle;\n",
       "    }\n",
       "\n",
       "    .dataframe tbody tr th {\n",
       "        vertical-align: top;\n",
       "    }\n",
       "\n",
       "    .dataframe thead th {\n",
       "        text-align: right;\n",
       "    }\n",
       "</style>\n",
       "<table border=\"1\" class=\"dataframe\">\n",
       "  <thead>\n",
       "    <tr style=\"text-align: right;\">\n",
       "      <th></th>\n",
       "      <th>wingmass_g</th>\n",
       "      <th>P_ppm</th>\n",
       "    </tr>\n",
       "  </thead>\n",
       "  <tbody>\n",
       "    <tr>\n",
       "      <th>0</th>\n",
       "      <td>0.29</td>\n",
       "      <td>997.12</td>\n",
       "    </tr>\n",
       "    <tr>\n",
       "      <th>1</th>\n",
       "      <td>0.06</td>\n",
       "      <td>876.99</td>\n",
       "    </tr>\n",
       "    <tr>\n",
       "      <th>2</th>\n",
       "      <td>0.16</td>\n",
       "      <td>1287.62</td>\n",
       "    </tr>\n",
       "    <tr>\n",
       "      <th>3</th>\n",
       "      <td>0.24</td>\n",
       "      <td>662.55</td>\n",
       "    </tr>\n",
       "    <tr>\n",
       "      <th>4</th>\n",
       "      <td>0.08</td>\n",
       "      <td>1115.53</td>\n",
       "    </tr>\n",
       "  </tbody>\n",
       "</table>\n",
       "</div>"
      ],
      "text/plain": [
       "   wingmass_g    P_ppm\n",
       "0        0.29   997.12\n",
       "1        0.06   876.99\n",
       "2        0.16  1287.62\n",
       "3        0.24   662.55\n",
       "4        0.08  1115.53"
      ]
     },
     "execution_count": 6,
     "metadata": {},
     "output_type": "execute_result"
    }
   ],
   "source": [
    "#data.features = data[[columns[best_f1],columns[best_f2]]]\n",
    "data.features = data[[column_titles[best_f1],column_titles[best_f2]]]\n",
    "data.features.head()"
   ]
  },
  {
   "cell_type": "code",
   "execution_count": 7,
   "id": "029b37e6-125f-404f-b818-83983d566274",
   "metadata": {},
   "outputs": [
    {
     "name": "stdout",
     "output_type": "stream",
     "text": [
      "0     0\n",
      "1     0\n",
      "2     0\n",
      "3     0\n",
      "4     0\n",
      "     ..\n",
      "75    3\n",
      "76    3\n",
      "77    3\n",
      "78    3\n",
      "79    3\n",
      "Name: Site_int, Length: 80, dtype: int64\n"
     ]
    }
   ],
   "source": [
    "#The data has a Site column that is strings instead of ints compared to the demo data. That can be swapped with this function\n",
    "data['Site_int'] = pd.factorize(data.Site)[0]\n",
    "print(data.Site_int)"
   ]
  },
  {
   "cell_type": "code",
   "execution_count": 8,
   "id": "316356ee-f253-4a38-a68d-b0fc86d39aa7",
   "metadata": {},
   "outputs": [],
   "source": [
    "#View the new column\n",
    "#data.head()"
   ]
  },
  {
   "cell_type": "code",
   "execution_count": 9,
   "id": "7032ef43-c731-4540-b945-39054e135143",
   "metadata": {},
   "outputs": [],
   "source": [
    "data.target = data.Site_int\n",
    "#data.features.head()\n",
    "#data.target.head()"
   ]
  },
  {
   "cell_type": "code",
   "execution_count": 10,
   "id": "731446f4-735e-4796-a14d-d06a15ae38b8",
   "metadata": {},
   "outputs": [
    {
     "name": "stdout",
     "output_type": "stream",
     "text": [
      "    wingmass_g    P_ppm\n",
      "0         0.29   997.12\n",
      "1         0.06   876.99\n",
      "2         0.16  1287.62\n",
      "3         0.24   662.55\n",
      "4         0.08  1115.53\n",
      "..         ...      ...\n",
      "75        0.06  1147.68\n",
      "76        0.06  1453.79\n",
      "77        0.03  1333.58\n",
      "78        0.04  1233.92\n",
      "79        0.05  1085.00\n",
      "\n",
      "[80 rows x 2 columns]\n"
     ]
    }
   ],
   "source": [
    "print(data.features)"
   ]
  },
  {
   "cell_type": "code",
   "execution_count": 11,
   "id": "489ba3af-7a89-442e-af68-6a2367ec3ebf",
   "metadata": {},
   "outputs": [],
   "source": [
    "data.features = preprocessing.MinMaxScaler().fit_transform(data.features)"
   ]
  },
  {
   "cell_type": "code",
   "execution_count": 12,
   "id": "eec98664-b6be-4029-8c9a-729b677b3734",
   "metadata": {},
   "outputs": [
    {
     "name": "stdout",
     "output_type": "stream",
     "text": [
      "['TJH' 'DG' 'LEH' 'HD']\n"
     ]
    }
   ],
   "source": [
    "#Convert column strings to ID of string\n",
    "#data['site_id'] = pd.factorize(data['Site'])[0]\n",
    "#print(data['site_id'])\n",
    "#data.head()\n",
    "\n",
    "#Convert column strings to array of unique items\n",
    "targets_list = data['Site'].unique()\n",
    "print(targets_list)"
   ]
  },
  {
   "cell_type": "code",
   "execution_count": 13,
   "id": "de08b34f-fc5a-47f5-b1b3-deb44d66d611",
   "metadata": {},
   "outputs": [],
   "source": [
    "x_train, x_test, y_train, y_test = train_test_split(data.features,data.target, test_size=0.2,random_state=42)"
   ]
  },
  {
   "cell_type": "code",
   "execution_count": 14,
   "id": "3aef9fb0-557c-4f4f-a627-f6ba65cba3a9",
   "metadata": {},
   "outputs": [
    {
     "name": "stdout",
     "output_type": "stream",
     "text": [
      "Optimal k with cross-validation:  8\n"
     ]
    }
   ],
   "source": [
    "#Check our K scores like in the demo...............\n",
    "\n",
    "k_scores = []\n",
    "\n",
    "#I determined 73 was the maximum neibours that could be checked when reading...\n",
    "#the error log to see where it crashed earlier\n",
    "#K was only checked up to 5 when determining which features to use...\n",
    "#but now that we have made a decision, a more thorough check can be made without...\n",
    "#Spending too much time on calculations\n",
    "for k in range(1,73):\n",
    "    knn = KNeighborsClassifier(n_neighbors=k)\n",
    "    scores = cross_val_score(knn,data.features,data.target,cv=10,scoring='accuracy')\n",
    "    k_scores.append(scores.mean())\n",
    "    \n",
    "optimal_k = np.argmax(k_scores)    \n",
    "print(\"Optimal k with cross-validation: \", np.argmax(k_scores))  "
   ]
  },
  {
   "cell_type": "code",
   "execution_count": 15,
   "id": "49803058-3150-4afe-9c60-660d1158e008",
   "metadata": {},
   "outputs": [],
   "source": [
    "classifier = KNeighborsClassifier(optimal_k)\n",
    "classifier.fit(x_train, y_train)\n",
    "predictions = classifier.predict(x_test)"
   ]
  },
  {
   "cell_type": "code",
   "execution_count": 16,
   "id": "2dffe74b-ea8c-4003-9030-28518cab1690",
   "metadata": {},
   "outputs": [
    {
     "data": {
      "text/plain": [
       "Text(0.5, 1.0, '3-Fold Testing')"
      ]
     },
     "execution_count": 16,
     "metadata": {},
     "output_type": "execute_result"
    },
    {
     "data": {
      "image/png": "[encoded data removed]",
      "text/plain": [
       "<Figure size 432x288 with 2 Axes>"
      ]
     },
     "metadata": {
      "needs_background": "light"
     },
     "output_type": "display_data"
    },
    {
     "data": {
      "image/png": "[encoded data removed]",
      "text/plain": [
       "<Figure size 432x288 with 2 Axes>"
      ]
     },
     "metadata": {
      "needs_background": "light"
     },
     "output_type": "display_data"
    }
   ],
   "source": [
    "import matplotlib.pyplot as plt\n",
    "from sklearn.metrics import ConfusionMatrixDisplay \n",
    "#Create target list\n",
    "\n",
    "#Plot the trainin data results\n",
    "target_list = data['Site'].unique()\n",
    "\n",
    "# Plot the confusion matrices\n",
    "fig, ax = plt.subplots()\n",
    "disp = ConfusionMatrixDisplay.from_estimator(classifier, x_train, y_train,\n",
    "                                 display_labels=target_list,\n",
    "                                 cmap=plt.cm.Blues,ax=ax)\n",
    "ax.set_title('3-Fold Training')\n",
    "\n",
    "# Plot the confusion matrices\n",
    "fig, ax = plt.subplots()\n",
    "disp = ConfusionMatrixDisplay.from_estimator(classifier, x_test, y_test,\n",
    "                                 display_labels=target_list,\n",
    "                                 cmap=plt.cm.Blues,ax=ax)\n",
    "ax.set_title('3-Fold Testing')"
   ]
  },
  {
   "cell_type": "code",
   "execution_count": 17,
   "id": "cd50fe36-bfe9-4548-a487-bfb51236d54b",
   "metadata": {},
   "outputs": [
    {
     "name": "stdout",
     "output_type": "stream",
     "text": [
      "Precision Score\n",
      "\n",
      "The precision score tells us the percent of positive predictions, that were correct\n",
      "TJH Precision score   :  100.0 %\n",
      "DG Precision score    :  77.77777777777779 %\n",
      "LEH Precision score   :  50.0 %\n",
      "HD Recall score       :  100.0 %\n",
      "\n",
      "Recall Score\n",
      "\n",
      "The recall score tells us..........\n",
      "TJH Recall score      :  33.33333333333333 %\n",
      "DG Recall score       :  100.0 %\n",
      "LEH Recall score      :  100.0 %\n",
      "HD Recall score       :  100.0 %\n",
      "\n",
      "F1 Score\n",
      "\n",
      "The F1 score tells us .............\n",
      "TJH F1 score          :  50.0 %\n",
      "DG F1 score           :  87.50000000000001 %\n",
      "LEH F1 score          :  66.66666666666666 %\n",
      "HD F1 score           :  100.0 %\n"
     ]
    }
   ],
   "source": [
    "from sklearn.metrics import precision_score, recall_score, f1_score\n",
    "\n",
    "#################################################################TJH\n",
    "#Get the true false for each test item being site TJH\n",
    "\n",
    "y_test_TJH = (y_test == 0)\n",
    "#Get the items that are predicted as TJH by the classifier\n",
    "predictions_TJH = (predictions == 0)\n",
    "#We now have an array for TJH test items, and TJH predictions\n",
    "precision_TJH = (precision_score(y_test_TJH, predictions_TJH))*100\n",
    "recall_TJH = (recall_score(y_test_TJH, predictions_TJH))*100\n",
    "f1_TJH = (f1_score(y_test_TJH, predictions_TJH))*100\n",
    "\n",
    "#################################################################DG\n",
    "\n",
    "#Get the true false for each test item being site DG\n",
    "y_test_DG = (y_test == 1)\n",
    "#Get the items that are predicted as DG by the classifier\n",
    "predictions_DG = (predictions == 1)\n",
    "precision_DG = (precision_score(y_test_DG, predictions_DG))*100\n",
    "recall_DG = (recall_score(y_test_DG, predictions_DG))*100\n",
    "f1_DG = (f1_score(y_test_DG, predictions_DG))*100\n",
    "\n",
    "#################################################################LEH\n",
    "\n",
    "#Get the true false for each test item being site LEH\n",
    "y_test_LEH = (y_test == 2)\n",
    "#Get the items that are predicted as LEH by the classifier\n",
    "predictions_LEH = (predictions == 2)\n",
    "precision_LEH = (precision_score(y_test_LEH, predictions_LEH))*100\n",
    "recall_LEH = (recall_score(y_test_LEH, predictions_LEH))*100\n",
    "f1_LEH = (f1_score(y_test_LEH, predictions_LEH))*100\n",
    "\n",
    "#################################################################HD\n",
    "\n",
    "#Get the true false for each test item being site HD\n",
    "y_test_HD = (y_test == 3)\n",
    "#Get the items that are predicted as HD by the classifier\n",
    "predictions_HD = (predictions == 3)\n",
    "precision_HD = (precision_score(y_test_HD, predictions_HD))*100\n",
    "recall_HD = (recall_score(y_test_HD, predictions_HD))*100\n",
    "f1_HD = (f1_score(y_test_HD, predictions_HD))*100\n",
    "\n",
    "\n",
    "\n",
    "print(\"Precision Score\\n\")\n",
    "print(\"The precision score tells us the percent of positive predictions, that were correct\")\n",
    "print(\"TJH Precision score   : \", precision_TJH, \"%\")\n",
    "print(\"DG Precision score    : \", precision_DG, \"%\")\n",
    "print(\"LEH Precision score   : \", precision_LEH, \"%\")\n",
    "print(\"HD Recall score       : \", precision_HD, \"%\")\n",
    "\n",
    "print(\"\\nRecall Score\\n\")\n",
    "print(\"The recall score tells us..........\")\n",
    "print(\"TJH Recall score      : \", recall_TJH, \"%\")\n",
    "print(\"DG Recall score       : \", recall_DG, \"%\")\n",
    "print(\"LEH Recall score      : \", recall_LEH, \"%\")\n",
    "print(\"HD Recall score       : \", recall_HD, \"%\")\n",
    "\n",
    "print(\"\\nF1 Score\\n\")\n",
    "print(\"The F1 score tells us .............\")\n",
    "print(\"TJH F1 score          : \", f1_TJH, \"%\")\n",
    "print(\"DG F1 score           : \", f1_DG, \"%\")\n",
    "print(\"LEH F1 score          : \", f1_LEH, \"%\")\n",
    "print(\"HD F1 score           : \", f1_HD, \"%\")"
   ]
  },
  {
   "cell_type": "code",
   "execution_count": 18,
   "id": "048edc36-87c3-4ec6-92c7-e1430e20f47f",
   "metadata": {},
   "outputs": [
    {
     "name": "stdout",
     "output_type": "stream",
     "text": [
      "              precision    recall  f1-score   support\n",
      "\n",
      "         TJH       1.00      0.33      0.50         6\n",
      "          DG       0.78      1.00      0.88         7\n",
      "         LEH       0.50      1.00      0.67         2\n",
      "          HD       1.00      1.00      1.00         1\n",
      "\n",
      "    accuracy                           0.75        16\n",
      "   macro avg       0.82      0.83      0.76        16\n",
      "weighted avg       0.84      0.75      0.72        16\n",
      "\n"
     ]
    }
   ],
   "source": [
    "#I Also came across this auto-reporter which does a full calculation for all these details in a neat little graph!\n",
    "#You can reference the results above to confirm that both outputs are reaching the same conclusions\n",
    "from sklearn.metrics import classification_report\n",
    "print(classification_report(y_test, predictions, target_names=target_list, output_dict= False))"
   ]
  },
  {
   "cell_type": "code",
   "execution_count": 19,
   "id": "97ca293d-5538-4b51-a71c-4aba75fb5edc",
   "metadata": {},
   "outputs": [],
   "source": [
    "#Construct a ROC curve for each class and calculate the respective AUC values\n",
    "\n",
    "from sklearn.model_selection import cross_val_predict\n",
    "y_train_TJH = (y_train == 0)\n",
    "y_train_DG = (y_train == 1)\n",
    "y_train_LEH = (y_train == 2)\n",
    "y_train_HD = (y_train == 3)\n",
    "\n",
    "y_scores_TJH = cross_val_predict(classifier, x_train, y_train_TJH, cv=3)\n",
    "y_scores_DG = cross_val_predict(classifier, x_train, y_train_DG, cv=3)\n",
    "y_scores_LEH = cross_val_predict(classifier, x_train, y_train_LEH, cv=3)\n",
    "y_scores_HD = cross_val_predict(classifier, x_train, y_train_HD, cv=3)\n",
    "\n",
    "\n",
    "\n",
    "def plot_precision_vs_recall(precisions, recalls):\n",
    "    plt.plot(recalls, precisions, \"b-\", linewidth=2)\n",
    "    plt.xlabel(\"Recall\", fontsize=16)\n",
    "    plt.ylabel(\"Precision\", fontsize=16)\n",
    "    plt.axis([0, 1, 0, 1])\n"
   ]
  },
  {
   "cell_type": "code",
   "execution_count": 20,
   "id": "182bfbd4",
   "metadata": {},
   "outputs": [
    {
     "data": {
      "image/png": "[encoded data removed]",
      "text/plain": [
       "<Figure size 576x432 with 1 Axes>"
      ]
     },
     "metadata": {
      "needs_background": "light"
     },
     "output_type": "display_data"
    }
   ],
   "source": [
    "#Roc Curve\n",
    "from sklearn.metrics import precision_recall_curve\n",
    "precisions_TJH, recalls_TJH, thresholds_TJH = precision_recall_curve(y_train_TJH, y_scores_TJH)\n",
    "\n",
    "plt.figure(figsize=(8, 6))\n",
    "plot_precision_vs_recall(precisions_TJH, recalls_TJH)\n",
    "plt.show()"
   ]
  },
  {
   "cell_type": "code",
   "execution_count": 21,
   "id": "c3eddcab",
   "metadata": {},
   "outputs": [
    {
     "data": {
      "image/png": "[encoded data removed]",
      "text/plain": [
       "<Figure size 576x432 with 1 Axes>"
      ]
     },
     "metadata": {
      "needs_background": "light"
     },
     "output_type": "display_data"
    }
   ],
   "source": [
    "#Roc Curve\n",
    "precisions_DG, recalls_DG, thresholds_DG = precision_recall_curve(y_train_DG, y_scores_DG)\n",
    "plt.figure(figsize=(8, 6))\n",
    "plot_precision_vs_recall(precisions_DG, recalls_DG)\n",
    "plt.show()"
   ]
  },
  {
   "cell_type": "code",
   "execution_count": 22,
   "id": "dfc286be",
   "metadata": {},
   "outputs": [
    {
     "data": {
      "image/png": "[encoded data removed]",
      "text/plain": [
       "<Figure size 576x432 with 1 Axes>"
      ]
     },
     "metadata": {
      "needs_background": "light"
     },
     "output_type": "display_data"
    }
   ],
   "source": [
    "#Roc Curve\n",
    "precisions_LEH, recalls_LEH, thresholds_LEH = precision_recall_curve(y_train_LEH, y_scores_LEH)\n",
    "plt.figure(figsize=(8, 6))\n",
    "plot_precision_vs_recall(precisions_LEH, recalls_LEH)\n",
    "plt.show()"
   ]
  },
  {
   "cell_type": "code",
   "execution_count": 23,
   "id": "b177560a",
   "metadata": {},
   "outputs": [
    {
     "data": {
      "image/png": "[encoded data removed]",
      "text/plain": [
       "<Figure size 576x432 with 1 Axes>"
      ]
     },
     "metadata": {
      "needs_background": "light"
     },
     "output_type": "display_data"
    }
   ],
   "source": [
    "#Roc Curve\n",
    "precisions_HD, recalls_HD, thresholds_HD = precision_recall_curve(y_train_HD, y_scores_HD)\n",
    "plt.figure(figsize=(8, 6))\n",
    "plot_precision_vs_recall(precisions_HD, recalls_HD)\n",
    "plt.show()"
   ]
  },
  {
   "cell_type": "code",
   "execution_count": 24,
   "id": "35c2da02-06e7-4876-8bf3-ee6472f7ade1",
   "metadata": {},
   "outputs": [
    {
     "name": "stdout",
     "output_type": "stream",
     "text": [
      "[1 1 0 1 2 1 0 3 2 1 1 1 2 1 2 1]\n",
      "[1 0 0 1 0 1 0 3 0 0 1 1 2 1 2 1]\n"
     ]
    }
   ],
   "source": [
    "print(predictions)\n",
    "print(y_test.to_numpy())"
   ]
  },
  {
   "cell_type": "code",
   "execution_count": 25,
   "id": "892e38ee-3e25-4b8b-8c38-10ee47e3fcae",
   "metadata": {},
   "outputs": [
    {
     "name": "stderr",
     "output_type": "stream",
     "text": [
      "*c* argument looks like a single numeric RGB or RGBA sequence, which should be avoided as value-mapping will have precedence in case its length matches with *x* & *y*.  Please use the *color* keyword-argument or provide a 2D array with a single row if you intend to specify the same RGB or RGBA value for all points.\n",
      "*c* argument looks like a single numeric RGB or RGBA sequence, which should be avoided as value-mapping will have precedence in case its length matches with *x* & *y*.  Please use the *color* keyword-argument or provide a 2D array with a single row if you intend to specify the same RGB or RGBA value for all points.\n",
      "*c* argument looks like a single numeric RGB or RGBA sequence, which should be avoided as value-mapping will have precedence in case its length matches with *x* & *y*.  Please use the *color* keyword-argument or provide a 2D array with a single row if you intend to specify the same RGB or RGBA value for all points.\n",
      "*c* argument looks like a single numeric RGB or RGBA sequence, which should be avoided as value-mapping will have precedence in case its length matches with *x* & *y*.  Please use the *color* keyword-argument or provide a 2D array with a single row if you intend to specify the same RGB or RGBA value for all points.\n"
     ]
    },
    {
     "data": {
      "image/png": "[encoded data removed]",
      "text/plain": [
       "<Figure size 432x288 with 1 Axes>"
      ]
     },
     "metadata": {
      "needs_background": "light"
     },
     "output_type": "display_data"
    }
   ],
   "source": [
    "from matplotlib.colors import *\n",
    "\n",
    "xs, ys = x_test, y_test\n",
    "\n",
    "X1, X2 = np.meshgrid(np.arange(start = xs[:,0].min() - 1,stop = xs[:,0].max() + 1,step = 0.01),\n",
    "                     np.arange(start = xs[:,1].min() - 1,stop = xs[:,1].max() + 1,step = 0.01))\n",
    "\n",
    "plt.contourf(X1,X2, classifier.predict(np.array([X1.ravel(),X2.ravel()]).T).reshape(X1.shape),\n",
    "            alpha = 0.75, cmap = ListedColormap(['orange','grey','red','blue']))\n",
    "\n",
    "plt.xlim(X1.min(),X1.max())\n",
    "plt.ylim(X2.min(),X2.max())\n",
    "\n",
    "for i, j in enumerate(np.unique(ys)):\n",
    "    plt.scatter(xs[ys==j,0],xs[ys==j,1],\n",
    "                c=ListedColormap(['orange','grey','red','blue'])(i),label = target_list[j])\n",
    "\n",
    "plt.title('Train Set')\n",
    "plt.xlabel('Estimated Salary')\n",
    "plt.ylabel('Age')\n",
    "plt.legend()\n",
    "plt.show()"
   ]
  }
 ],
 "metadata": {
  "kernelspec": {
   "display_name": "Python 3 (ipykernel)",
   "language": "python",
   "name": "python3"
  },
  "language_info": {
   "codemirror_mode": {
    "name": "ipython",
    "version": 3
   },
   "file_extension": ".py",
   "mimetype": "text/x-python",
   "name": "python",
   "nbconvert_exporter": "python",
   "pygments_lexer": "ipython3",
   "version": "3.9.12"
  }
 },
 "nbformat": 4,
 "nbformat_minor": 5
}
